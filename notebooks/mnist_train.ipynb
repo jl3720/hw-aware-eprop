{
 "cells": [
  {
   "cell_type": "markdown",
   "metadata": {},
   "source": [
    "# MNIST training notebook"
   ]
  },
  {
   "cell_type": "code",
   "execution_count": 90,
   "metadata": {},
   "outputs": [],
   "source": [
    "import numpy as np\n",
    "import matplotlib.pyplot as plt\n",
    "\n",
    "from torchvision.datasets import MNIST\n",
    "from torchvision import transforms\n",
    "from torch.utils.data import DataLoader\n",
    "import torch\n",
    "import torch.nn as nn\n",
    "\n",
    "import snntorch as snn \n",
    "from snntorch import spikegen\n",
    "import snntorch.spikeplot as splt"
   ]
  },
  {
   "cell_type": "markdown",
   "metadata": {},
   "source": [
    "## Load Datasets and DataLoaders"
   ]
  },
  {
   "cell_type": "code",
   "execution_count": 2,
   "metadata": {},
   "outputs": [],
   "source": [
    "# Load Datasets\n",
    "transform = transforms.Compose(\n",
    "    [\n",
    "        transforms.Resize((28, 28)),\n",
    "        transforms.Grayscale(),\n",
    "        transforms.ToTensor(),\n",
    "        transforms.Normalize((0,), (1,))\n",
    "    ]\n",
    ")\n",
    "datapath = \"../data\"\n",
    "train_dataset = MNIST(datapath, train=True, transform=transform, download=False)  # Change download=True first time\n",
    "test_dataset = MNIST(datapath, train=False, transform=transform, download=False)"
   ]
  },
  {
   "cell_type": "code",
   "execution_count": 3,
   "metadata": {},
   "outputs": [],
   "source": [
    "# Load Dataloaders\n",
    "BATCH_SIZE = 128\n",
    "\n",
    "train_dataloader = DataLoader(train_dataset, batch_size=BATCH_SIZE, shuffle=True, drop_last=True)\n",
    "test_dataloader = DataLoader(test_dataset, batch_size=BATCH_SIZE, shuffle=True, drop_last=True)"
   ]
  },
  {
   "cell_type": "code",
   "execution_count": 4,
   "metadata": {},
   "outputs": [
    {
     "name": "stderr",
     "output_type": "stream",
     "text": [
      "/home/james/anaconda3/envs/ini/lib/python3.11/site-packages/torchvision/datasets/mnist.py:75: UserWarning: train_data has been renamed data\n",
      "  warnings.warn(\"train_data has been renamed data\")\n"
     ]
    },
    {
     "data": {
      "text/plain": [
       "(torch.Size([60000, 28, 28]), torch.Size([10000, 28, 28]))"
      ]
     },
     "execution_count": 4,
     "metadata": {},
     "output_type": "execute_result"
    }
   ],
   "source": [
    "train_dataset.train_data.shape, test_dataset.train_data.shape"
   ]
  },
  {
   "cell_type": "markdown",
   "metadata": {},
   "source": [
    "## Define Network"
   ]
  },
  {
   "cell_type": "code",
   "execution_count": 21,
   "metadata": {},
   "outputs": [
    {
     "name": "stdout",
     "output_type": "stream",
     "text": [
      "NUM_INPUTS: 784, NUM_HIDDENS: 1000, NUM_OUTPUTS: 10\n"
     ]
    },
    {
     "name": "stderr",
     "output_type": "stream",
     "text": [
      "/home/james/anaconda3/envs/ini/lib/python3.11/site-packages/torchvision/datasets/mnist.py:75: UserWarning: train_data has been renamed data\n",
      "  warnings.warn(\"train_data has been renamed data\")\n"
     ]
    }
   ],
   "source": [
    "TAU = 5e-3\n",
    "DT = 1  # ms\n",
    "BETA = 0.9\n",
    "THRESHOLD = 1.0\n",
    "NUM_STEPS = 25\n",
    "\n",
    "NUM_INPUTS = len(train_dataset.train_data[0].flatten())\n",
    "NUM_HIDDENS = 1000  # Design choice\n",
    "NUM_OUTPUTS = 10  # Number of output classes\n",
    "print(f\"NUM_INPUTS: {NUM_INPUTS}, NUM_HIDDENS: {NUM_HIDDENS}, NUM_OUTPUTS: {NUM_OUTPUTS}\")\n",
    "\n",
    "device = torch.device(\"cuda\") if torch.cuda.is_available() else torch.device(\"cpu\")"
   ]
  },
  {
   "cell_type": "code",
   "execution_count": 71,
   "metadata": {},
   "outputs": [],
   "source": [
    "class Net(nn.Module):\n",
    "    \"\"\"Simple 3-layer, feed-forward SNN\"\"\"\n",
    "\n",
    "    def __init__(self, num_inputs: int, num_hiddens: int, num_outputs: int, \n",
    "                 tau: float, dt, beta: float, threshold: float, num_steps: int):\n",
    "        \"\"\"Initialise hyperparameters and architecture\"\"\"\n",
    "        super().__init__()  # Get good stuff from pytorch.nn.Module\n",
    "\n",
    "        # Hyperparams\n",
    "        self.tau = tau\n",
    "        self.dt = dt\n",
    "        self.beta = beta\n",
    "        self.threshold = threshold\n",
    "        self.num_steps = num_steps  # No. simulation steps for 1 example\n",
    "\n",
    "        # Architecture\n",
    "        self.fc1 = nn.Linear(in_features=num_inputs, out_features=num_hiddens)\n",
    "        self.lif1 = snn.Leaky(beta=beta)\n",
    "        self.fc2 = nn.Linear(in_features=num_hiddens, out_features=num_outputs)\n",
    "        self.lif2 = snn.Leaky(beta=beta)\n",
    "\n",
    "    def forward(self, x: torch.Tensor):\n",
    "        \"\"\"\n",
    "        Parameters:\n",
    "            x: Input tensor (time_index, BATCH_SIZE, features_unrolled)\"\"\"\n",
    "        # Initialise membrane potential tensors\n",
    "        mem1 = self.lif1.init_leaky()\n",
    "        mem2 = self.lif2.init_leaky()\n",
    "\n",
    "        # Create arrays to store spikes over time\n",
    "        spk2_rec = []\n",
    "        mem2_rec = []\n",
    "\n",
    "        # Iterate over all timesteps for 1 example\n",
    "        for step in range(self.num_steps):\n",
    "            # TODO: x is not spikes, but this generates effectively I = WX for input to LIF potential\n",
    "            # Also same x is fed into network at each time, should be probabilistic spike over time instead, x[step] (index in time)\n",
    "            cur1 = self.fc1(x)  \n",
    "            spk1, mem1 = self.lif1(cur1, mem1)\n",
    "            cur2 = self.fc2(spk1)\n",
    "            spk2, mem2 = self.lif2(cur2, mem2)\n",
    "\n",
    "            spk2_rec.append(spk2)  # Store spike outputs & membrane voltage\n",
    "            mem2_rec.append(mem2)\n",
    "\n",
    "        return torch.stack(spk2_rec, dim=0), torch.stack(mem2_rec)\n",
    "    \n",
    "net = Net(num_inputs=NUM_INPUTS, num_hiddens=NUM_HIDDENS, num_outputs=NUM_OUTPUTS,\n",
    "          tau=TAU, dt=DT, beta=BETA, threshold=THRESHOLD, num_steps=NUM_STEPS).to(device)"
   ]
  },
  {
   "cell_type": "markdown",
   "metadata": {},
   "source": [
    "* `fc1` applies a linear transformation to all input pixels from the MNIST dataset;\n",
    "* `lif1` integrates the weighted input over time, emitting a spike if the threshold condition is met;\n",
    "* `fc2` applies a linear transformation to the output spikes of `lif1`;\n",
    "* `lif2` is another spiking neuron layer, integrating the weighted spikes over time."
   ]
  },
  {
   "cell_type": "markdown",
   "metadata": {},
   "source": [
    "## Training"
   ]
  },
  {
   "cell_type": "markdown",
   "metadata": {},
   "source": [
    "### Define accuracy metric"
   ]
  },
  {
   "cell_type": "code",
   "execution_count": 72,
   "metadata": {},
   "outputs": [
    {
     "data": {
      "text/plain": [
       "(torch.Size([128, 1, 28, 28]), torch.Size([128]))"
      ]
     },
     "execution_count": 72,
     "metadata": {},
     "output_type": "execute_result"
    }
   ],
   "source": [
    "data, targets = next(iter(train_dataloader))\n",
    "data.shape, targets.shape"
   ]
  },
  {
   "cell_type": "code",
   "execution_count": 74,
   "metadata": {},
   "outputs": [],
   "source": [
    "def batch_prediction_accuracy(data: torch.Tensor, targets, net: nn.Module, train=False):\n",
    "    \"\"\"Classification accuracy\n",
    "    \n",
    "    Use rate coding. I.e. take neuron with highest firing rate (spike count) as predicted class.\n",
    "    Parameters:\n",
    "        data: batch of data, size (BATCH_SIZE, FEATURES). In this case (BATCH_SIZE, # Channels, H, W)\n",
    "        targets:\n",
    "        net: network to query\n",
    "    \"\"\"\n",
    "    output_spikes, _ = net(data.view(BATCH_SIZE, -1))  # Flattens data to BATCH_SIZE x H*W\n",
    "    _, idxs = output_spikes.sum(dim=0).max(1)  # Sum output spikes over time, then find max neuron\n",
    "    acc = np.mean((targets == idxs).detach().cpu().numpy())\n",
    "\n",
    "    if train:\n",
    "        print(f\"Train set accuracy for a single minibatch: {acc*100:.2f}%\")\n",
    "    else:\n",
    "        print(f\"Test set accuracy for a single minibatch: {acc*100:.2f}%\")\n",
    "\n",
    "def train_printer(data, targets, net, epoch, counter, iter_counter,\n",
    "                  loss_hist, test_loss_hist, test_data, test_targets):\n",
    "    print(f\"Epoch {epoch}, Iteration {iter_counter}\")\n",
    "    print(f\"Train Set Loss: {loss_hist[counter]:.2f}\")\n",
    "    print(f\"Test Set Loss: {test_loss_hist[counter]:.2f}\")\n",
    "    batch_prediction_accuracy(data, targets, net, train=True)\n",
    "    batch_prediction_accuracy(test_data, test_targets, net, train=False)\n",
    "    print(\"\\n\")"
   ]
  },
  {
   "cell_type": "markdown",
   "metadata": {},
   "source": [
    "### Define Loss"
   ]
  },
  {
   "cell_type": "code",
   "execution_count": 75,
   "metadata": {},
   "outputs": [],
   "source": [
    "# Use pytorch cross-entropy loss on membrane potentials of output neurons\n",
    "# membrane_potentials_i -> softmax_i -> cross_entropy_i\n",
    "\n",
    "loss = nn.CrossEntropyLoss()"
   ]
  },
  {
   "cell_type": "code",
   "execution_count": 76,
   "metadata": {},
   "outputs": [],
   "source": [
    "LR = 5e-4\n",
    "optimizer = torch.optim.Adam(net.parameters(), lr=LR, betas=(0.9, 0.999))"
   ]
  },
  {
   "cell_type": "markdown",
   "metadata": {},
   "source": [
    "### Train and evaluation pipeline for 1 minibatch"
   ]
  },
  {
   "cell_type": "code",
   "execution_count": 77,
   "metadata": {},
   "outputs": [],
   "source": [
    "data, targets = next(iter(train_dataloader))\n",
    "data = data.to(device)\n",
    "targets = targets.to(device)"
   ]
  },
  {
   "cell_type": "code",
   "execution_count": 78,
   "metadata": {},
   "outputs": [
    {
     "name": "stdout",
     "output_type": "stream",
     "text": [
      "torch.Size([25, 128, 10])\n"
     ]
    }
   ],
   "source": [
    "spk_rec, mem_rec = net(data.view(BATCH_SIZE, -1))\n",
    "print(mem_rec.shape)  # 25 time steps, 128 samples in minibatch, 10 output features/classes"
   ]
  },
  {
   "cell_type": "code",
   "execution_count": 79,
   "metadata": {},
   "outputs": [
    {
     "data": {
      "text/plain": [
       "tensor([ 0.0283, -0.0204,  0.0293, -0.0003, -0.0163, -0.0013, -0.0158,  0.0037,\n",
       "         0.0069,  0.0173], grad_fn=<SelectBackward0>)"
      ]
     },
     "execution_count": 79,
     "metadata": {},
     "output_type": "execute_result"
    }
   ],
   "source": [
    "mem_rec[0,0]  # For 1 timestep, for 1 example, 10 output membrane voltages"
   ]
  },
  {
   "cell_type": "code",
   "execution_count": 80,
   "metadata": {},
   "outputs": [
    {
     "name": "stdout",
     "output_type": "stream",
     "text": [
      "Training loss: 60.083\n"
     ]
    }
   ],
   "source": [
    "# Initialise loss value\n",
    "dtype = torch.float\n",
    "loss_val = torch.zeros((1), dtype=dtype, device=device)\n",
    "\n",
    "for timestep in range(NUM_STEPS):\n",
    "    loss_val += loss(mem_rec[timestep], targets)\n",
    "\n",
    "print(f\"Training loss: {loss_val.item():.3f}\")"
   ]
  },
  {
   "cell_type": "code",
   "execution_count": 81,
   "metadata": {},
   "outputs": [
    {
     "name": "stdout",
     "output_type": "stream",
     "text": [
      "Train set accuracy for a single minibatch: 7.03%\n"
     ]
    }
   ],
   "source": [
    "batch_prediction_accuracy(data, targets, net, train=True)"
   ]
  },
  {
   "cell_type": "code",
   "execution_count": 82,
   "metadata": {},
   "outputs": [],
   "source": [
    "# Single weight update iteration\n",
    "optimizer.zero_grad()  # Clear previous gradients\n",
    "loss_val.backward()\n",
    "optimizer.step()"
   ]
  },
  {
   "cell_type": "code",
   "execution_count": 84,
   "metadata": {},
   "outputs": [
    {
     "name": "stdout",
     "output_type": "stream",
     "text": [
      "Training loss: 50.325\n",
      "Train set accuracy for a single minibatch: 42.97%\n"
     ]
    }
   ],
   "source": [
    "# Re print accuracy after training\n",
    "spk_rec, mem_rec = net(data.view(BATCH_SIZE, -1))\n",
    "loss_val = torch.zeros((1), dtype=dtype, device=device)\n",
    "\n",
    "for timestep in range(NUM_STEPS):\n",
    "    loss_val += loss(mem_rec[timestep], targets)\n",
    "\n",
    "print(f\"Training loss: {loss_val.item():.3f}\")\n",
    "batch_prediction_accuracy(data, targets, net, train=True)"
   ]
  },
  {
   "cell_type": "markdown",
   "metadata": {},
   "source": [
    "- Note loss has decreased after iteration"
   ]
  },
  {
   "cell_type": "markdown",
   "metadata": {},
   "source": [
    "### Training loop"
   ]
  },
  {
   "cell_type": "code",
   "execution_count": 89,
   "metadata": {},
   "outputs": [
    {
     "name": "stdout",
     "output_type": "stream",
     "text": [
      "Epoch 0, Iteration 0\n",
      "Train Set Loss: 49.26\n",
      "Test Set Loss: 48.13\n",
      "Train set accuracy for a single minibatch: 57.03%\n",
      "Test set accuracy for a single minibatch: 46.88%\n",
      "\n",
      "\n",
      "Epoch 0, Iteration 50\n",
      "Train Set Loss: 11.76\n",
      "Test Set Loss: 15.89\n",
      "Train set accuracy for a single minibatch: 86.72%\n",
      "Test set accuracy for a single minibatch: 80.47%\n",
      "\n",
      "\n",
      "Epoch 0, Iteration 100\n",
      "Train Set Loss: 12.86\n",
      "Test Set Loss: 11.56\n",
      "Train set accuracy for a single minibatch: 88.28%\n",
      "Test set accuracy for a single minibatch: 89.06%\n",
      "\n",
      "\n",
      "Epoch 0, Iteration 150\n",
      "Train Set Loss: 8.31\n",
      "Test Set Loss: 6.76\n",
      "Train set accuracy for a single minibatch: 90.62%\n",
      "Test set accuracy for a single minibatch: 92.19%\n",
      "\n",
      "\n",
      "Epoch 0, Iteration 200\n",
      "Train Set Loss: 9.03\n",
      "Test Set Loss: 5.53\n",
      "Train set accuracy for a single minibatch: 91.41%\n",
      "Test set accuracy for a single minibatch: 92.97%\n",
      "\n",
      "\n",
      "Epoch 0, Iteration 250\n",
      "Train Set Loss: 11.88\n",
      "Test Set Loss: 8.59\n",
      "Train set accuracy for a single minibatch: 89.06%\n",
      "Test set accuracy for a single minibatch: 90.62%\n",
      "\n",
      "\n",
      "Epoch 0, Iteration 300\n",
      "Train Set Loss: 6.61\n",
      "Test Set Loss: 10.98\n",
      "Train set accuracy for a single minibatch: 96.88%\n",
      "Test set accuracy for a single minibatch: 87.50%\n",
      "\n",
      "\n",
      "Epoch 0, Iteration 350\n",
      "Train Set Loss: 9.00\n",
      "Test Set Loss: 4.80\n",
      "Train set accuracy for a single minibatch: 91.41%\n",
      "Test set accuracy for a single minibatch: 94.53%\n",
      "\n",
      "\n",
      "Epoch 0, Iteration 400\n",
      "Train Set Loss: 5.68\n",
      "Test Set Loss: 9.93\n",
      "Train set accuracy for a single minibatch: 92.97%\n",
      "Test set accuracy for a single minibatch: 92.19%\n",
      "\n",
      "\n",
      "Epoch 0, Iteration 450\n",
      "Train Set Loss: 7.33\n",
      "Test Set Loss: 5.47\n",
      "Train set accuracy for a single minibatch: 93.75%\n",
      "Test set accuracy for a single minibatch: 96.09%\n",
      "\n",
      "\n",
      "Epoch 1, Iteration 32\n",
      "Train Set Loss: 4.88\n",
      "Test Set Loss: 6.96\n",
      "Train set accuracy for a single minibatch: 97.66%\n",
      "Test set accuracy for a single minibatch: 92.19%\n",
      "\n",
      "\n",
      "Epoch 1, Iteration 82\n",
      "Train Set Loss: 3.39\n",
      "Test Set Loss: 6.07\n",
      "Train set accuracy for a single minibatch: 96.88%\n",
      "Test set accuracy for a single minibatch: 92.19%\n",
      "\n",
      "\n",
      "Epoch 1, Iteration 132\n",
      "Train Set Loss: 6.88\n",
      "Test Set Loss: 4.86\n",
      "Train set accuracy for a single minibatch: 91.41%\n",
      "Test set accuracy for a single minibatch: 93.75%\n",
      "\n",
      "\n",
      "Epoch 1, Iteration 182\n",
      "Train Set Loss: 5.06\n",
      "Test Set Loss: 4.39\n",
      "Train set accuracy for a single minibatch: 92.97%\n",
      "Test set accuracy for a single minibatch: 92.97%\n",
      "\n",
      "\n",
      "Epoch 1, Iteration 232\n",
      "Train Set Loss: 8.11\n",
      "Test Set Loss: 5.70\n",
      "Train set accuracy for a single minibatch: 94.53%\n",
      "Test set accuracy for a single minibatch: 94.53%\n",
      "\n",
      "\n",
      "Epoch 1, Iteration 282\n",
      "Train Set Loss: 4.32\n",
      "Test Set Loss: 4.57\n",
      "Train set accuracy for a single minibatch: 96.09%\n",
      "Test set accuracy for a single minibatch: 96.09%\n",
      "\n",
      "\n",
      "Epoch 1, Iteration 332\n",
      "Train Set Loss: 4.23\n",
      "Test Set Loss: 6.60\n",
      "Train set accuracy for a single minibatch: 97.66%\n",
      "Test set accuracy for a single minibatch: 92.19%\n",
      "\n",
      "\n",
      "Epoch 1, Iteration 382\n",
      "Train Set Loss: 2.98\n",
      "Test Set Loss: 2.82\n",
      "Train set accuracy for a single minibatch: 99.22%\n",
      "Test set accuracy for a single minibatch: 98.44%\n",
      "\n",
      "\n",
      "Epoch 1, Iteration 432\n",
      "Train Set Loss: 3.23\n",
      "Test Set Loss: 5.44\n",
      "Train set accuracy for a single minibatch: 96.88%\n",
      "Test set accuracy for a single minibatch: 93.75%\n",
      "\n",
      "\n"
     ]
    }
   ],
   "source": [
    "NUM_EPOCHS = 2\n",
    "\n",
    "# Initialise tracking variables\n",
    "counter = 0  # total iteration counter\n",
    "train_loss_hist = []\n",
    "test_loss_hist = []\n",
    "\n",
    "# Outer Training loop\n",
    "for epoch in range(NUM_EPOCHS):\n",
    "    iter_counter = 0  # keep track of iterations within an epoch\n",
    "\n",
    "    # Loop over each minibatch\n",
    "    for data, targets in iter(train_dataloader):\n",
    "\n",
    "        data = data.to(device)\n",
    "        targets = targets.to(device)\n",
    "        net.train()  # Set module to training mode\n",
    "\n",
    "        # Forward pass\n",
    "        spk_rec, mem_rec = net(data.view(BATCH_SIZE, -1))\n",
    "\n",
    "        # Initialise loss and sum over time\n",
    "        loss_val = torch.zeros((1), dtype=dtype, device=device)\n",
    "        for timestep in range(NUM_STEPS):\n",
    "            loss_val += loss(mem_rec[timestep], targets)\n",
    "        \n",
    "        # Backward pass\n",
    "        optimizer.zero_grad()\n",
    "        loss_val.backward()\n",
    "        optimizer.step()\n",
    "\n",
    "        # Store loss\n",
    "        train_loss_hist.append(loss_val.item())\n",
    "\n",
    "        # Test set\n",
    "        with torch.no_grad():  # Disable gradient tracking when evaluating\n",
    "            net.eval()  # Set net to eval mode\n",
    "            test_data, test_targets = next(iter(test_dataloader))\n",
    "            output_spikes, output_memb_pots = net(test_data.view(BATCH_SIZE, -1))\n",
    "\n",
    "            test_loss = torch.zeros((1), dtype=dtype, device=device)\n",
    "\n",
    "            for timestep in range(NUM_STEPS):\n",
    "                test_loss += loss(output_memb_pots[timestep], test_targets)  # Note that loss values are summed/averaged over minibatch\n",
    "            test_loss_hist.append(test_loss.item())\n",
    "\n",
    "            # Print train/test loss and accuracy\n",
    "            if counter % 50 == 0:\n",
    "                train_printer(data, targets, net, epoch, counter,\n",
    "                              iter_counter, train_loss_hist, test_loss_hist,\n",
    "                              test_data, test_targets)\n",
    "            counter += 1\n",
    "            iter_counter += 1\n",
    "\n"
   ]
  },
  {
   "cell_type": "markdown",
   "metadata": {},
   "source": [
    "## Plot Learning Curves"
   ]
  },
  {
   "cell_type": "code",
   "execution_count": 91,
   "metadata": {},
   "outputs": [
    {
     "data": {
      "image/png": "[encoded data removed]",
      "text/plain": [
       "<Figure size 1000x500 with 1 Axes>"
      ]
     },
     "metadata": {},
     "output_type": "display_data"
    }
   ],
   "source": [
    "# Plot Loss\n",
    "fig = plt.figure(facecolor=\"w\", figsize=(10, 5))\n",
    "plt.plot(train_loss_hist)\n",
    "plt.plot(test_loss_hist)\n",
    "plt.title(\"Loss Curves\")\n",
    "plt.legend([\"Train Loss\", \"Test Loss\"])\n",
    "plt.xlabel(\"Iteration\")\n",
    "plt.ylabel(\"Loss\")\n",
    "plt.show()"
   ]
  },
  {
   "cell_type": "markdown",
   "metadata": {},
   "source": [
    "### Test set accuracy"
   ]
  },
  {
   "cell_type": "markdown",
   "metadata": {},
   "source": [
    "Instead of computing loss, with is calculated based on membrane potential, use max firing rate to classify:"
   ]
  },
  {
   "cell_type": "code",
   "execution_count": 92,
   "metadata": {},
   "outputs": [
    {
     "name": "stdout",
     "output_type": "stream",
     "text": [
      "Total correctly classified test set images: 9616/10000\n",
      "Test Set Accuracy: 96.16%\n"
     ]
    }
   ],
   "source": [
    "total = 0\n",
    "correct = 0\n",
    "\n",
    "# drop_last switched to False to keep all samples\n",
    "test_loader = DataLoader(test_dataset, batch_size=BATCH_SIZE, shuffle=True, drop_last=False)\n",
    "\n",
    "with torch.no_grad():\n",
    "  net.eval()\n",
    "  for data, targets in test_loader:\n",
    "    data = data.to(device)\n",
    "    targets = targets.to(device)\n",
    "\n",
    "    # forward pass\n",
    "    test_spk, _ = net(data.view(data.size(0), -1))\n",
    "\n",
    "    # calculate total accuracy\n",
    "    _, predicted = test_spk.sum(dim=0).max(1)\n",
    "    total += targets.size(0)\n",
    "    correct += (predicted == targets).sum().item()\n",
    "\n",
    "print(f\"Total correctly classified test set images: {correct}/{total}\")\n",
    "print(f\"Test Set Accuracy: {100 * correct / total:.2f}%\")"
   ]
  }
 ],
 "metadata": {
  "kernelspec": {
   "display_name": "ini",
   "language": "python",
   "name": "python3"
  },
  "language_info": {
   "codemirror_mode": {
    "name": "ipython",
    "version": 3
   },
   "file_extension": ".py",
   "mimetype": "text/x-python",
   "name": "python",
   "nbconvert_exporter": "python",
   "pygments_lexer": "ipython3",
   "version": "3.11.5"
  }
 },
 "nbformat": 4,
 "nbformat_minor": 2
}
