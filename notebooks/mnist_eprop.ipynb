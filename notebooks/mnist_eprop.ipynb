{
 "cells": [
  {
   "cell_type": "markdown",
   "metadata": {},
   "source": [
    "# MNIST e-prop training notebook"
   ]
  },
  {
   "cell_type": "code",
   "execution_count": 1,
   "metadata": {},
   "outputs": [],
   "source": [
    "import numpy as np\n",
    "import matplotlib.pyplot as plt\n",
    "%matplotlib inline\n",
    "\n",
    "\n",
    "# from torchvision.datasets import MNIST\n",
    "# from torchvision import transforms\n",
    "from torch.utils.data import DataLoader\n",
    "import torch\n",
    "import torch.nn as nn\n",
    "\n",
    "import snntorch as snn \n",
    "from snntorch import spikegen\n",
    "# from snntorch.spikevision import spikedata\n",
    "import snntorch.spikeplot as splt\n",
    "\n",
    "import tonic\n",
    "from tonic import transforms"
   ]
  },
  {
   "cell_type": "markdown",
   "metadata": {},
   "source": [
    "## Load Datasets and DataLoaders"
   ]
  },
  {
   "cell_type": "markdown",
   "metadata": {},
   "source": [
    "### Load Neuromorphic-MNIST Datasets"
   ]
  },
  {
   "cell_type": "code",
   "execution_count": 2,
   "metadata": {},
   "outputs": [],
   "source": [
    "datapath = \"../data\"\n",
    "train_dataset = tonic.datasets.NMNIST(datapath, train=True)\n",
    "test_dataset = tonic.datasets.NMNIST(datapath, train=False)"
   ]
  },
  {
   "cell_type": "code",
   "execution_count": 3,
   "metadata": {},
   "outputs": [
    {
     "data": {
      "text/plain": [
       "(array([(18, 30,     55, 1), ( 7, 24,    501, 0), (18,  9,    807, 0), ...,\n",
       "        ( 8, 20, 302958, 0), (23,  8, 304007, 1), (18, 15, 304231, 1)],\n",
       "       dtype=[('x', '<i8'), ('y', '<i8'), ('t', '<i8'), ('p', '<i8')]),\n",
       " (3551,),\n",
       " 8,\n",
       " 60000)"
      ]
     },
     "execution_count": 3,
     "metadata": {},
     "output_type": "execute_result"
    }
   ],
   "source": [
    "events, target = train_dataset[60000-1]\n",
    "events, events.shape, target, train_dataset.__len__()"
   ]
  },
  {
   "cell_type": "code",
   "execution_count": 6,
   "metadata": {},
   "outputs": [
    {
     "data": {
      "text/plain": [
       "(3, 2, 34, 34)"
      ]
     },
     "execution_count": 6,
     "metadata": {},
     "output_type": "execute_result"
    }
   ],
   "source": [
    "# Convert stream of (x,y,t,p) events into stack of 3 image frames\n",
    "N_TIME_BINS = 3\n",
    "FIG_SIZE = (4, 3)\n",
    "sensor_size = train_dataset.sensor_size\n",
    "frame_transform = transforms.ToFrame(sensor_size=sensor_size, n_time_bins=N_TIME_BINS)  # 3 saccades\n",
    "\n",
    "frames = frame_transform(events)\n",
    "frames.shape"
   ]
  },
  {
   "cell_type": "markdown",
   "metadata": {},
   "source": [
    "### Stack events into frames"
   ]
  },
  {
   "cell_type": "code",
   "execution_count": 8,
   "metadata": {},
   "outputs": [
    {
     "data": {
      "image/png": "[encoded data removed]",
      "text/plain": [
       "<Figure size 400x300 with 3 Axes>"
      ]
     },
     "metadata": {},
     "output_type": "display_data"
    }
   ],
   "source": [
    "def plot_frames(frames):\n",
    "    fig, axes = plt.subplots(1, len(frames), figsize=FIG_SIZE)\n",
    "    for axis, frame in zip(axes, frames):\n",
    "        axis.imshow(frame[1] - frame[0])\n",
    "        axis.axis(\"off\")\n",
    "    plt.tight_layout()\n",
    "\n",
    "\n",
    "plot_frames(frames)"
   ]
  },
  {
   "cell_type": "code",
   "execution_count": 9,
   "metadata": {},
   "outputs": [
    {
     "data": {
      "image/png": "[encoded data removed]",
      "text/plain": [
       "<Figure size 400x300 with 3 Axes>"
      ]
     },
     "metadata": {},
     "output_type": "display_data"
    }
   ],
   "source": [
    "denoise_transform = tonic.transforms.Denoise(filter_time=10000)\n",
    "\n",
    "events_denoised = denoise_transform(events)\n",
    "frames_denoised = frame_transform(events_denoised)\n",
    "\n",
    "plot_frames(frames_denoised)"
   ]
  },
  {
   "cell_type": "markdown",
   "metadata": {},
   "source": [
    "### Create DataLoaders\n",
    "\n",
    "We stick with FrameTransform representation for now."
   ]
  },
  {
   "cell_type": "code",
   "execution_count": 10,
   "metadata": {},
   "outputs": [],
   "source": [
    "FILTER_TIME = 10000  # Max ms between events otherwise get filtered\n",
    "N_TIME_BINS = 3  # No. saccades\n",
    "\n",
    "denoise_transform = transforms.Denoise(filter_time=FILTER_TIME)\n",
    "frame_transform = transforms.ToFrame(sensor_size=sensor_size, n_time_bins=N_TIME_BINS)\n",
    "type_transform = transforms.NumpyAsType(dtype = np.float32)  # Events must match weight dtype (torch.float32)\n",
    "\n",
    "transform = transforms.Compose([denoise_transform, frame_transform, type_transform])\n",
    "\n",
    "train_dataset = tonic.datasets.NMNIST(\"../data\", train=True, transform=transform)\n",
    "test_dataset = tonic.datasets.NMNIST(\"../data\", train=False, transform=transform)"
   ]
  },
  {
   "cell_type": "code",
   "execution_count": 11,
   "metadata": {},
   "outputs": [],
   "source": [
    "# Load Dataloaders\n",
    "BATCH_SIZE = 1  # Online training\n",
    "\n",
    "train_dataloader = DataLoader(train_dataset, batch_size=BATCH_SIZE, shuffle=True, drop_last=True)\n",
    "test_dataloader = DataLoader(test_dataset, batch_size=BATCH_SIZE, shuffle=True, drop_last=True)"
   ]
  },
  {
   "cell_type": "code",
   "execution_count": 12,
   "metadata": {},
   "outputs": [
    {
     "name": "stdout",
     "output_type": "stream",
     "text": [
      "torch.Size([1, 3, 2, 34, 34]) 0\n"
     ]
    },
    {
     "data": {
      "image/png": "[encoded data removed]",
      "text/plain": [
       "<Figure size 400x300 with 3 Axes>"
      ]
     },
     "metadata": {},
     "output_type": "display_data"
    }
   ],
   "source": [
    "frames, target = next(iter(train_dataloader))\n",
    "print(frames.shape, target[0].item())\n",
    "plot_frames(frames[0].squeeze())"
   ]
  },
  {
   "cell_type": "markdown",
   "metadata": {},
   "source": [
    "## Define Network\n",
    "\n",
    "For now, feed each frame one by one to network, flattening the polarities (ON and OFF events)"
   ]
  },
  {
   "cell_type": "code",
   "execution_count": 14,
   "metadata": {},
   "outputs": [
    {
     "name": "stdout",
     "output_type": "stream",
     "text": [
      "NUM_INPUTS: 2312, NUM_HIDDENS: 1000, NUM_OUTPUTS: 10\n"
     ]
    }
   ],
   "source": [
    "TAU = 5e-3\n",
    "DT = 1  # ms\n",
    "BETA = 0.9\n",
    "THRESHOLD = 1.0\n",
    "NUM_STEPS = 3  # Number of saccades as earlier\n",
    "\n",
    "NUM_INPUTS = frames[0,0].flatten().shape[0]  # Take 1 example & 1 time frame, flatten other dims\n",
    "NUM_HIDDENS = 1000  # Design choice\n",
    "NUM_OUTPUTS = 10  # Number of output classes\n",
    "print(f\"NUM_INPUTS: {NUM_INPUTS}, NUM_HIDDENS: {NUM_HIDDENS}, NUM_OUTPUTS: {NUM_OUTPUTS}\")\n",
    "\n",
    "device = torch.device(\"cuda\") if torch.cuda.is_available() else torch.device(\"cpu\")"
   ]
  },
  {
   "cell_type": "code",
   "execution_count": 16,
   "metadata": {},
   "outputs": [
    {
     "data": {
      "text/plain": [
       "Net(\n",
       "  (fc1): Linear(in_features=2312, out_features=1000, bias=True)\n",
       "  (lif1): Leaky()\n",
       "  (fc2): Linear(in_features=1000, out_features=10, bias=True)\n",
       "  (lif2): Leaky()\n",
       ")"
      ]
     },
     "execution_count": 16,
     "metadata": {},
     "output_type": "execute_result"
    }
   ],
   "source": [
    "class Net(nn.Module):\n",
    "    \"\"\"Simple 3-layer, feed-forward SNN\"\"\"\n",
    "\n",
    "    def __init__(self, num_inputs: int, num_hiddens: int, num_outputs: int, \n",
    "                 tau: float, dt, beta: float, threshold: float, num_steps: int):\n",
    "        \"\"\"Initialise hyperparameters and architecture\"\"\"\n",
    "        super().__init__()  # Get good stuff from pytorch.nn.Module\n",
    "\n",
    "        # Hyperparams\n",
    "        self.tau = tau\n",
    "        self.dt = dt\n",
    "        self.beta = beta\n",
    "        self.threshold = threshold\n",
    "        self.num_steps = num_steps  # No. simulation steps for 1 example\n",
    "\n",
    "        # Architecture\n",
    "        self.fc1 = nn.Linear(in_features=num_inputs, out_features=num_hiddens)\n",
    "        self.lif1 = snn.Leaky(beta=beta)\n",
    "        self.fc2 = nn.Linear(in_features=num_hiddens, out_features=num_outputs)\n",
    "        self.lif2 = snn.Leaky(beta=beta)\n",
    "\n",
    "    def forward(self, x: torch.Tensor):\n",
    "        \"\"\"\n",
    "        Parameters:\n",
    "            x: Input tensor (BATCH_SIZE, time_index, polarity, H, W)\n",
    "        \"\"\"\n",
    "        # Put time index first, then flatten -> (time_index, BATCH_SIZE, features_unrolled) \n",
    "        x = x.swapaxes(0, 1).flatten(start_dim=2)\n",
    "        # print(f\"x dtype: {x.dtype}, fc1 dtype: {self.fc1.weight.dtype}\")\n",
    "        # print(f\"x shape: {x.shape}, fc1 shape: {self.fc1.weight.shape}\")\n",
    "\n",
    "        # Initialise membrane potential tensors\n",
    "        mem1 = self.lif1.init_leaky()\n",
    "        mem2 = self.lif2.init_leaky()\n",
    "\n",
    "        # Create arrays to store spikes over time\n",
    "        spk2_rec = []\n",
    "        mem2_rec = []\n",
    "\n",
    "        # Iterate over all timesteps for 1 example\n",
    "        for step in range(self.num_steps):\n",
    "            cur1 = self.fc1(x[step])  \n",
    "            spk1, mem1 = self.lif1(cur1, mem1)\n",
    "            cur2 = self.fc2(spk1)\n",
    "            spk2, mem2 = self.lif2(cur2, mem2)\n",
    "\n",
    "            spk2_rec.append(spk2)  # Store spike outputs & membrane voltage\n",
    "            mem2_rec.append(mem2)\n",
    "\n",
    "        return torch.stack(spk2_rec, dim=0), torch.stack(mem2_rec)\n",
    "    \n",
    "    def calc_grads(self):\n",
    "        pass\n",
    "\n",
    "    def update_params(self):\n",
    "        pass\n",
    "    \n",
    "net = Net(num_inputs=NUM_INPUTS, num_hiddens=NUM_HIDDENS, num_outputs=NUM_OUTPUTS,\n",
    "          tau=TAU, dt=DT, beta=BETA, threshold=THRESHOLD, num_steps=NUM_STEPS).to(device)\n",
    "net"
   ]
  },
  {
   "cell_type": "markdown",
   "metadata": {},
   "source": [
    "* `fc1` applies a linear transformation to all input pixels from the MNIST dataset;\n",
    "* `lif1` integrates the weighted input over time, emitting a spike if the threshold condition is met;\n",
    "* `fc2` applies a linear transformation to the output spikes of `lif1`;\n",
    "* `lif2` is another spiking neuron layer, integrating the weighted spikes over time."
   ]
  },
  {
   "cell_type": "markdown",
   "metadata": {},
   "source": [
    "## Training"
   ]
  },
  {
   "cell_type": "markdown",
   "metadata": {},
   "source": [
    "### Define accuracy metric"
   ]
  },
  {
   "cell_type": "code",
   "execution_count": 17,
   "metadata": {},
   "outputs": [
    {
     "data": {
      "text/plain": [
       "(torch.Size([1, 3, 2, 34, 34]), torch.Size([1]), torch.float32)"
      ]
     },
     "execution_count": 17,
     "metadata": {},
     "output_type": "execute_result"
    }
   ],
   "source": [
    "data, targets = next(iter(train_dataloader))\n",
    "# data = data.swapaxes(0 ,1)  # time-first, BATCH_SIZE, polarity, H, W\n",
    "data.shape, targets.shape, data.dtype"
   ]
  },
  {
   "cell_type": "code",
   "execution_count": 18,
   "metadata": {},
   "outputs": [
    {
     "data": {
      "text/plain": [
       "torch.Size([3, 1, 10])"
      ]
     },
     "execution_count": 18,
     "metadata": {},
     "output_type": "execute_result"
    }
   ],
   "source": [
    "net(data)[0].shape  # Output shape"
   ]
  },
  {
   "cell_type": "code",
   "execution_count": 19,
   "metadata": {},
   "outputs": [],
   "source": [
    "def batch_prediction_accuracy(data: torch.Tensor, targets, net: nn.Module, train=False):\n",
    "    \"\"\"Classification accuracy\n",
    "    \n",
    "    Use rate coding. I.e. take neuron with highest firing rate (spike count) as predicted class.\n",
    "    Parameters:\n",
    "        data: batch of data, size (BATCH_SIZE, timesteps, polarity, H, W)\n",
    "        targets:\n",
    "        net: network to query\n",
    "    \"\"\"\n",
    "    output_spikes, _ = net(data)\n",
    "    _, idxs = output_spikes.sum(dim=0).max(1)  # Sum output spikes over time, then find max neuron\n",
    "    acc = np.mean((targets == idxs).detach().cpu().numpy())\n",
    "\n",
    "    if train:\n",
    "        print(f\"Train set accuracy for a single minibatch: {acc*100:.2f}%\")\n",
    "    else:\n",
    "        print(f\"Test set accuracy for a single minibatch: {acc*100:.2f}%\")\n",
    "\n",
    "def train_printer(data, targets, net, epoch, counter, iter_counter,\n",
    "                  loss_hist, test_loss_hist, test_data, test_targets):\n",
    "    print(f\"Epoch {epoch}, Iteration {iter_counter}\")\n",
    "    print(f\"Train Set Loss: {loss_hist[counter]:.2f}\")\n",
    "    print(f\"Test Set Loss: {test_loss_hist[counter]:.2f}\")\n",
    "    batch_prediction_accuracy(data, targets, net, train=True)\n",
    "    batch_prediction_accuracy(test_data, test_targets, net, train=False)\n",
    "    print(\"\\n\")"
   ]
  },
  {
   "cell_type": "markdown",
   "metadata": {},
   "source": [
    "### Define Loss"
   ]
  },
  {
   "cell_type": "code",
   "execution_count": null,
   "metadata": {},
   "outputs": [],
   "source": [
    "torch.Tensor().dot()"
   ]
  },
  {
   "cell_type": "code",
   "execution_count": 75,
   "metadata": {},
   "outputs": [],
   "source": [
    "def softMax(logits: torch.Tensor):\n",
    "    \"\"\"Converts logits to valid probability distribution by applying softmax\n",
    "\n",
    "    Parameters:\n",
    "        logits: K-dim Output vector of network (usually total spike counts over time).\n",
    "    Returns: \n",
    "        distribution: K-dim probability vector\n",
    "    \"\"\"\n",
    "    denom = torch.sum(torch.exp(logits), dim=-1)  # Sum over feature dim, avoid batch\n",
    "    return torch.exp(logits) / denom\n",
    "\n",
    "def spikeCount(z_out):\n",
    "    \"\"\" Get K-dim spikecount vector\n",
    "    Parameters:\n",
    "        z_out: time major output spike tensor, [T=3, BS=1, K=10 output classes]\n",
    "    Returns:\n",
    "        K-dim vector of spikecounts for each output class\n",
    "    \"\"\"\n",
    "    return torch.sum(z_out, dim=0).squeeze()  # Sum spikes over time dim (time major)\n",
    "\n",
    "def computeLoss(z_out: torch.Tensor, target: torch.Tensor):\n",
    "    \"\"\" Compute Cross Entropy loss from output spikes and one-hot targets\n",
    "    Parameters:\n",
    "        z_out:\n",
    "        target:\n",
    "    \"\"\"\n",
    "    spike_counts = spikeCount(z_out)\n",
    "    predicted_probs = softMax(spike_counts)\n",
    "    ce_loss = torch.dot(-target, torch.log(predicted_probs)).item()\n",
    "    \n",
    "    return ce_loss \n"
   ]
  },
  {
   "cell_type": "code",
   "execution_count": 76,
   "metadata": {},
   "outputs": [
    {
     "name": "stdout",
     "output_type": "stream",
     "text": [
      "tensor([[[0.3333, 0.6667, 1.0000, 1.3333]],\n",
      "\n",
      "        [[0.3333, 0.6667, 1.0000, 1.3333]],\n",
      "\n",
      "        [[0.3333, 0.6667, 1.0000, 1.3333]]])\n",
      "tensor([1., 2., 3., 4.])\n",
      "tensor([0.0321, 0.0871, 0.2369, 0.6439])\n",
      "tensor(0.4402)\n"
     ]
    }
   ],
   "source": [
    "# Test functions\n",
    "\n",
    "def test_softMax():\n",
    "    # TODO: Assert same as pytorch softmax fn\n",
    "    testcase = torch.log(torch.Tensor([1, 2, 3, 4]))\n",
    "    result = softMax(testcase)\n",
    "    assert torch.equal(result, torch.Tensor([0.1, 0.2, 0.3, 0.4]))\n",
    "\n",
    "def test_spikeCount():\n",
    "    z_out = torch.arange(0, 30).view(size=(3,1,10))\n",
    "    result = spikeCount(z_out)\n",
    "    print(result.shape)\n",
    "    print(result)\n",
    "    print(z_out)\n",
    "    assert torch.equal(result, torch.Tensor([30, 33, 36, 39, 42, 45, 48, 51, 54, 57]))\n",
    "\n",
    "def test_spikeCount_SoftMax():\n",
    "    # Generate test output w/ 4 output classes, w/ total spike_counts 1,2,3,4\n",
    "    z_out = torch.ones((3, 1, 4)) / 3\n",
    "    z_out[:, :, 1] = z_out[:, :, 1] * 2\n",
    "    z_out[:, :, 2] = z_out[:, :, 2] * 3\n",
    "    z_out[:, :, 3] = z_out[:, :, 3] * 4\n",
    "    print(z_out)\n",
    "\n",
    "    spike_count = spikeCount(z_out)\n",
    "    print(spike_count)\n",
    "    spike_count = torch.log(spike_count)\n",
    "    probs = softMax(spike_count)\n",
    "    print(probs)\n",
    "\n",
    "def test_computeLoss():\n",
    "    z_out = torch.ones((3, 1, 4)) / 3\n",
    "    z_out[:, :, 1] = z_out[:, :, 1] * 2\n",
    "    z_out[:, :, 2] = z_out[:, :, 2] * 3\n",
    "    z_out[:, :, 3] = z_out[:, :, 3] * 4\n",
    "    print(z_out)\n",
    "\n",
    "    target = torch.Tensor([0, 0, 0, 1])\n",
    "    ce_loss = computeLoss(z_out, target)\n",
    "    \n",
    "\n",
    "# test_softMax()\n",
    "# test_spikeCount()\n",
    "test_computeLoss()"
   ]
  },
  {
   "cell_type": "markdown",
   "metadata": {},
   "source": [
    "### Train and evaluation pipeline for 1 minibatch"
   ]
  },
  {
   "cell_type": "code",
   "execution_count": 34,
   "metadata": {},
   "outputs": [
    {
     "name": "stdout",
     "output_type": "stream",
     "text": [
      "databatch size: torch.Size([128, 3, 2, 34, 34]), targets size: torch.Size([128])\n"
     ]
    }
   ],
   "source": [
    "data, targets = next(iter(train_dataloader))\n",
    "data = data.to(device)\n",
    "targets = targets.to(device)\n",
    "print(f\"databatch size: {data.shape}, targets size: {targets.shape}\")"
   ]
  },
  {
   "cell_type": "code",
   "execution_count": 35,
   "metadata": {},
   "outputs": [
    {
     "name": "stdout",
     "output_type": "stream",
     "text": [
      "torch.Size([3, 128, 10])\n"
     ]
    }
   ],
   "source": [
    "# spk_rec, mem_rec = net(data.view(BATCH_SIZE, -1))\n",
    "spk_rec, mem_rec = net(data)\n",
    "print(mem_rec.shape)  # 3 time steps, 128 samples in minibatch, 10 output features/classes"
   ]
  },
  {
   "cell_type": "code",
   "execution_count": 36,
   "metadata": {},
   "outputs": [
    {
     "data": {
      "text/plain": [
       "tensor([-0.2695, -0.1517,  0.1913, -0.0054,  0.0528,  0.2860, -0.2476, -0.0263,\n",
       "        -0.0785,  0.0076], grad_fn=<SelectBackward0>)"
      ]
     },
     "execution_count": 36,
     "metadata": {},
     "output_type": "execute_result"
    }
   ],
   "source": [
    "mem_rec[0,0]  # For 1 timestep, for 1 example, 10 output membrane voltages"
   ]
  },
  {
   "cell_type": "code",
   "execution_count": 37,
   "metadata": {},
   "outputs": [
    {
     "name": "stdout",
     "output_type": "stream",
     "text": [
      "Training loss: 7.042\n"
     ]
    }
   ],
   "source": [
    "# Initialise loss value\n",
    "dtype = torch.float\n",
    "loss_val = torch.zeros((1), dtype=dtype, device=device)\n",
    "\n",
    "for timestep in range(NUM_STEPS):\n",
    "    loss_val += loss(mem_rec[timestep], targets)\n",
    "\n",
    "print(f\"Training loss: {loss_val.item():.3f}\")"
   ]
  },
  {
   "cell_type": "code",
   "execution_count": 38,
   "metadata": {},
   "outputs": [
    {
     "name": "stdout",
     "output_type": "stream",
     "text": [
      "Train set accuracy for a single minibatch: 8.59%\n"
     ]
    }
   ],
   "source": [
    "batch_prediction_accuracy(data, targets, net, train=True)"
   ]
  },
  {
   "cell_type": "code",
   "execution_count": 39,
   "metadata": {},
   "outputs": [],
   "source": [
    "# Single weight update iteration\n",
    "optimizer.zero_grad()  # Clear previous gradients\n",
    "loss_val.backward()\n",
    "optimizer.step()"
   ]
  },
  {
   "cell_type": "code",
   "execution_count": 40,
   "metadata": {},
   "outputs": [
    {
     "name": "stdout",
     "output_type": "stream",
     "text": [
      "Training loss: 5.554\n",
      "Train set accuracy for a single minibatch: 25.00%\n"
     ]
    }
   ],
   "source": [
    "# Re print accuracy after training\n",
    "spk_rec, mem_rec = net(data)\n",
    "loss_val = torch.zeros((1), dtype=dtype, device=device)\n",
    "\n",
    "for timestep in range(NUM_STEPS):\n",
    "    loss_val += loss(mem_rec[timestep], targets)\n",
    "\n",
    "print(f\"Training loss: {loss_val.item():.3f}\")\n",
    "batch_prediction_accuracy(data, targets, net, train=True)"
   ]
  },
  {
   "cell_type": "markdown",
   "metadata": {},
   "source": [
    "- Note loss has decreased after iteration"
   ]
  },
  {
   "cell_type": "markdown",
   "metadata": {},
   "source": [
    "### Training loop"
   ]
  },
  {
   "cell_type": "code",
   "execution_count": 41,
   "metadata": {},
   "outputs": [
    {
     "name": "stdout",
     "output_type": "stream",
     "text": [
      "Epoch 0, Iteration 0\n",
      "Train Set Loss: 6.15\n",
      "Test Set Loss: 5.48\n",
      "Train set accuracy for a single minibatch: 40.62%\n",
      "Test set accuracy for a single minibatch: 33.59%\n",
      "\n",
      "\n",
      "Epoch 0, Iteration 50\n",
      "Train Set Loss: 1.18\n",
      "Test Set Loss: 0.95\n",
      "Train set accuracy for a single minibatch: 78.91%\n",
      "Test set accuracy for a single minibatch: 71.88%\n",
      "\n",
      "\n",
      "Epoch 0, Iteration 100\n",
      "Train Set Loss: 1.05\n",
      "Test Set Loss: 1.08\n",
      "Train set accuracy for a single minibatch: 80.47%\n",
      "Test set accuracy for a single minibatch: 81.25%\n",
      "\n",
      "\n",
      "Epoch 0, Iteration 150\n",
      "Train Set Loss: 0.63\n",
      "Test Set Loss: 0.88\n",
      "Train set accuracy for a single minibatch: 78.91%\n",
      "Test set accuracy for a single minibatch: 82.81%\n",
      "\n",
      "\n",
      "Epoch 0, Iteration 200\n",
      "Train Set Loss: 0.50\n",
      "Test Set Loss: 0.63\n",
      "Train set accuracy for a single minibatch: 86.72%\n",
      "Test set accuracy for a single minibatch: 82.81%\n",
      "\n",
      "\n",
      "Epoch 0, Iteration 250\n",
      "Train Set Loss: 0.63\n",
      "Test Set Loss: 0.48\n",
      "Train set accuracy for a single minibatch: 88.28%\n",
      "Test set accuracy for a single minibatch: 89.84%\n",
      "\n",
      "\n",
      "Epoch 0, Iteration 300\n",
      "Train Set Loss: 0.76\n",
      "Test Set Loss: 0.46\n",
      "Train set accuracy for a single minibatch: 89.06%\n",
      "Test set accuracy for a single minibatch: 89.06%\n",
      "\n",
      "\n",
      "Epoch 0, Iteration 350\n",
      "Train Set Loss: 0.68\n",
      "Test Set Loss: 0.57\n",
      "Train set accuracy for a single minibatch: 85.94%\n",
      "Test set accuracy for a single minibatch: 89.84%\n",
      "\n",
      "\n",
      "Epoch 0, Iteration 400\n",
      "Train Set Loss: 0.45\n",
      "Test Set Loss: 0.41\n",
      "Train set accuracy for a single minibatch: 88.28%\n",
      "Test set accuracy for a single minibatch: 91.41%\n",
      "\n",
      "\n",
      "Epoch 0, Iteration 450\n",
      "Train Set Loss: 0.73\n",
      "Test Set Loss: 0.79\n",
      "Train set accuracy for a single minibatch: 93.75%\n",
      "Test set accuracy for a single minibatch: 88.28%\n",
      "\n",
      "\n"
     ]
    }
   ],
   "source": [
    "NUM_EPOCHS = 1\n",
    "\n",
    "# Initialise tracking variables\n",
    "counter = 0  # total iteration counter\n",
    "train_loss_hist = []\n",
    "test_loss_hist = []\n",
    "\n",
    "# Outer Training loop\n",
    "for epoch in range(NUM_EPOCHS):\n",
    "    iter_counter = 0  # keep track of iterations within an epoch\n",
    "\n",
    "    # Loop over each minibatch\n",
    "    for data, targets in iter(train_dataloader):\n",
    "\n",
    "        data = data.to(device)\n",
    "        targets = targets.to(device)\n",
    "        net.train()  # Set module to training mode\n",
    "\n",
    "        # Forward pass\n",
    "        spk_rec, mem_rec = net(data)\n",
    "\n",
    "        # Initialise loss and sum over time\n",
    "        loss_val = torch.zeros((1), dtype=dtype, device=device)\n",
    "        for timestep in range(NUM_STEPS):\n",
    "            loss_val += loss(mem_rec[timestep], targets)\n",
    "        \n",
    "        # Backward pass\n",
    "        optimizer.zero_grad()\n",
    "        loss_val.backward()\n",
    "        optimizer.step()\n",
    "\n",
    "        # Store loss\n",
    "        train_loss_hist.append(loss_val.item())\n",
    "\n",
    "        # Test set\n",
    "        with torch.no_grad():  # Disable gradient tracking when evaluating\n",
    "            net.eval()  # Set net to eval mode\n",
    "            test_data, test_targets = next(iter(test_dataloader))\n",
    "            output_spikes, output_memb_pots = net(test_data)\n",
    "\n",
    "            test_loss = torch.zeros((1), dtype=dtype, device=device)\n",
    "\n",
    "            for timestep in range(NUM_STEPS):\n",
    "                test_loss += loss(output_memb_pots[timestep], test_targets)  # Note that loss values are summed/averaged over minibatch\n",
    "            test_loss_hist.append(test_loss.item())\n",
    "\n",
    "            # Print train/test loss and accuracy\n",
    "            if counter % 50 == 0:\n",
    "                train_printer(data, targets, net, epoch, counter,\n",
    "                              iter_counter, train_loss_hist, test_loss_hist,\n",
    "                              test_data, test_targets)\n",
    "            counter += 1\n",
    "            iter_counter += 1\n",
    "\n"
   ]
  },
  {
   "cell_type": "markdown",
   "metadata": {},
   "source": [
    "## Plot Learning Curves"
   ]
  },
  {
   "cell_type": "code",
   "execution_count": 43,
   "metadata": {},
   "outputs": [
    {
     "data": {
      "image/png": "[encoded data removed]",
      "text/plain": [
       "<Figure size 1000x500 with 1 Axes>"
      ]
     },
     "metadata": {},
     "output_type": "display_data"
    }
   ],
   "source": [
    "# Plot Loss\n",
    "fig = plt.figure(facecolor=\"w\", figsize=(10, 5))\n",
    "plt.plot(train_loss_hist)\n",
    "plt.plot(test_loss_hist)\n",
    "plt.title(\"Loss Curves\")\n",
    "plt.legend([\"Train Loss\", \"Test Loss\"])\n",
    "plt.xlabel(\"Iteration\")\n",
    "plt.ylabel(\"Loss\")\n",
    "plt.grid()\n",
    "plt.show()"
   ]
  },
  {
   "cell_type": "markdown",
   "metadata": {},
   "source": [
    "### Test set accuracy"
   ]
  },
  {
   "cell_type": "markdown",
   "metadata": {},
   "source": [
    "Instead of computing loss, with is calculated based on membrane potential, use max firing rate to classify:"
   ]
  },
  {
   "cell_type": "code",
   "execution_count": 45,
   "metadata": {},
   "outputs": [
    {
     "name": "stdout",
     "output_type": "stream",
     "text": [
      "Total correctly classified test set images: 8922/10000\n",
      "Test Set Accuracy: 89.22%\n"
     ]
    }
   ],
   "source": [
    "total = 0\n",
    "correct = 0\n",
    "\n",
    "# drop_last switched to False to keep all samples\n",
    "test_loader = DataLoader(test_dataset, batch_size=BATCH_SIZE, shuffle=True, drop_last=False)\n",
    "\n",
    "with torch.no_grad():\n",
    "  net.eval()\n",
    "  for data, targets in test_loader:\n",
    "    data = data.to(device)\n",
    "    targets = targets.to(device)\n",
    "\n",
    "    # forward pass\n",
    "    test_spk, _ = net(data)\n",
    "\n",
    "    # calculate total accuracy\n",
    "    _, predicted = test_spk.sum(dim=0).max(1)\n",
    "    total += targets.size(0)\n",
    "    correct += (predicted == targets).sum().item()\n",
    "\n",
    "print(f\"Total correctly classified test set images: {correct}/{total}\")\n",
    "print(f\"Test Set Accuracy: {100 * correct / total:.2f}%\")"
   ]
  }
 ],
 "metadata": {
  "kernelspec": {
   "display_name": "ini",
   "language": "python",
   "name": "python3"
  },
  "language_info": {
   "codemirror_mode": {
    "name": "ipython",
    "version": 3
   },
   "file_extension": ".py",
   "mimetype": "text/x-python",
   "name": "python",
   "nbconvert_exporter": "python",
   "pygments_lexer": "ipython3",
   "version": "3.11.5"
  }
 },
 "nbformat": 4,
 "nbformat_minor": 2
}
