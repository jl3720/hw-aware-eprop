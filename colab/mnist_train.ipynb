{
  "cells": [
    {
      "cell_type": "markdown",
      "metadata": {
        "id": "view-in-github",
        "colab_type": "text"
      },
      "source": [
        "<a href=\"https://colab.research.google.com/github/jl3720/hw-aware-eprop/blob/main/mnist_train.ipynb\" target=\"_parent\"><img src=\"https://colab.research.google.com/assets/colab-badge.svg\" alt=\"Open In Colab\"/></a>"
      ]
    },
    {
      "cell_type": "markdown",
      "metadata": {
        "id": "BMY_OUcxcaQu"
      },
      "source": [
        "# MNIST training notebook"
      ]
    },
    {
      "cell_type": "code",
      "execution_count": null,
      "metadata": {
        "id": "WTIpLJaTcaQv"
      },
      "outputs": [],
      "source": [
        "import numpy as np\n",
        "import matplotlib.pyplot as plt\n",
        "%matplotlib inline\n",
        "\n",
        "\n",
        "# from torchvision.datasets import MNIST\n",
        "# from torchvision import transforms\n",
        "from torch.utils.data import DataLoader\n",
        "import torch\n",
        "import torch.nn as nn\n",
        "\n",
        "import snntorch as snn\n",
        "from snntorch import spikegen\n",
        "# from snntorch.spikevision import spikedata\n",
        "import snntorch.spikeplot as splt\n",
        "\n",
        "import tonic\n",
        "from tonic import transforms"
      ]
    },
    {
      "cell_type": "markdown",
      "metadata": {
        "id": "aqBKA3eGcaQw"
      },
      "source": [
        "## Load Datasets and DataLoaders"
      ]
    },
    {
      "cell_type": "code",
      "execution_count": null,
      "metadata": {
        "id": "zM7VjPKUcaQw"
      },
      "outputs": [],
      "source": [
        "# Load MNIST Datasets\n",
        "# transform = transforms.Compose(\n",
        "#     [\n",
        "#         transforms.Resize((28, 28)),\n",
        "#         transforms.Grayscale(),\n",
        "#         transforms.ToTensor(),\n",
        "#         transforms.Normalize((0,), (1,))\n",
        "#     ]\n",
        "# )\n",
        "# datapath = \"../data\"\n",
        "# train_dataset = MNIST(datapath, train=True, transform=transform, download=False)  # Change download=True first time\n",
        "# test_dataset = MNIST(datapath, train=False, transform=transform, download=False)"
      ]
    },
    {
      "cell_type": "markdown",
      "metadata": {
        "id": "AiOANWO7caQx"
      },
      "source": [
        "### Load Neuromorphic-MNIST Datasets"
      ]
    },
    {
      "cell_type": "code",
      "execution_count": null,
      "metadata": {
        "id": "-FU1notPcaQx"
      },
      "outputs": [],
      "source": [
        "datapath = \"../data\"\n",
        "train_dataset = tonic.datasets.NMNIST(datapath, train=True)\n",
        "test_dataset = tonic.datasets.NMNIST(datapath, train=False)"
      ]
    },
    {
      "cell_type": "code",
      "execution_count": null,
      "metadata": {
        "id": "JRJfTb0mcaQx",
        "outputId": "816e84d0-9dbe-440f-df02-33fee198e5c3"
      },
      "outputs": [
        {
          "data": {
            "text/plain": [
              "(array([(18, 30,     55, 1), ( 7, 24,    501, 0), (18,  9,    807, 0), ...,\n",
              "        ( 8, 20, 302958, 0), (23,  8, 304007, 1), (18, 15, 304231, 1)],\n",
              "       dtype=[('x', '<i8'), ('y', '<i8'), ('t', '<i8'), ('p', '<i8')]),\n",
              " (3551,),\n",
              " 8,\n",
              " 60000)"
            ]
          },
          "execution_count": 3,
          "metadata": {},
          "output_type": "execute_result"
        }
      ],
      "source": [
        "events, target = train_dataset[60000-1]\n",
        "events, events.shape, target, train_dataset.__len__()"
      ]
    },
    {
      "cell_type": "code",
      "execution_count": null,
      "metadata": {
        "id": "SFKEpAKBcaQx",
        "outputId": "7b920eb3-6ac4-4207-e8ed-4075a57f94d9"
      },
      "outputs": [
        {
          "data": {
            "text/plain": [
              "(3, 2, 34, 34)"
            ]
          },
          "execution_count": 14,
          "metadata": {},
          "output_type": "execute_result"
        }
      ],
      "source": [
        "# Convert stream of (x,y,t,p) events into stack of 3 image frames\n",
        "N_TIME_BINS = 3\n",
        "FIG_SIZE = (10, 8)\n",
        "sensor_size = train_dataset.sensor_size\n",
        "frame_transform = transforms.ToFrame(sensor_size=sensor_size, n_time_bins=N_TIME_BINS)  # 3 saccades\n",
        "\n",
        "frames = frame_transform(events)\n",
        "frames.shape"
      ]
    },
    {
      "cell_type": "markdown",
      "metadata": {
        "id": "OeWPFT5KcaQy"
      },
      "source": [
        "### Stack events into frames"
      ]
    },
    {
      "cell_type": "code",
      "execution_count": null,
      "metadata": {
        "id": "DZEqudDlcaQy",
        "outputId": "dbb7f94e-41e8-4d37-d71d-00988f5d5804"
      },
      "outputs": [
        {
          "data": {
            "image/png": "[encoded data removed]",
            "text/plain": [
              "<Figure size 1000x800 with 3 Axes>"
            ]
          },
          "metadata": {},
          "output_type": "display_data"
        }
      ],
      "source": [
        "def plot_frames(frames):\n",
        "    fig, axes = plt.subplots(1, len(frames), figsize=FIG_SIZE)\n",
        "    for axis, frame in zip(axes, frames):\n",
        "        axis.imshow(frame[1] - frame[0])\n",
        "        axis.axis(\"off\")\n",
        "    plt.tight_layout()\n",
        "\n",
        "\n",
        "plot_frames(frames)"
      ]
    },
    {
      "cell_type": "code",
      "execution_count": null,
      "metadata": {
        "id": "j6Xp5pQJcaQy",
        "outputId": "b431762d-6ab0-441e-e899-e33e905c1a19"
      },
      "outputs": [
        {
          "data": {
            "image/png": "[encoded data removed]",
            "text/plain": [
              "<Figure size 1000x800 with 3 Axes>"
            ]
          },
          "metadata": {},
          "output_type": "display_data"
        }
      ],
      "source": [
        "denoise_transform = tonic.transforms.Denoise(filter_time=10000)\n",
        "\n",
        "events_denoised = denoise_transform(events)\n",
        "frames_denoised = frame_transform(events_denoised)\n",
        "\n",
        "plot_frames(frames_denoised)"
      ]
    },
    {
      "cell_type": "markdown",
      "metadata": {
        "id": "iy9mdXMAcaQy"
      },
      "source": [
        "### Voxel grids\n",
        "\n",
        "Seems different to frames in that it performs bilinear interpolation"
      ]
    },
    {
      "cell_type": "code",
      "execution_count": null,
      "metadata": {
        "id": "DpAwkKWRcaQy",
        "outputId": "f142741c-f219-4237-f6b7-9485c9fd03e2"
      },
      "outputs": [
        {
          "name": "stdout",
          "output_type": "stream",
          "text": [
            "(1, 34, 34)\n",
            "(3, 1, 34, 34)\n"
          ]
        },
        {
          "data": {
            "image/png": "[encoded data removed]",
            "text/plain": [
              "<Figure size 1000x800 with 3 Axes>"
            ]
          },
          "metadata": {},
          "output_type": "display_data"
        }
      ],
      "source": [
        "volume = transforms.ToVoxelGrid(sensor_size=sensor_size, n_time_bins=N_TIME_BINS)(events_denoised)\n",
        "\n",
        "fig, axes = plt.subplots(1, len(volume), figsize=FIG_SIZE)\n",
        "for axis, slice in zip(axes, volume):\n",
        "    axis.imshow(slice[0])\n",
        "    axis.axis(\"off\")\n",
        "plt.tight_layout()\n",
        "print(slice.shape)\n",
        "print(volume.shape)"
      ]
    },
    {
      "cell_type": "markdown",
      "metadata": {
        "id": "XPCivVDtcaQz"
      },
      "source": [
        "### Time surface"
      ]
    },
    {
      "cell_type": "code",
      "execution_count": null,
      "metadata": {
        "id": "-4QQXbxccaQz",
        "outputId": "9dbe4521-9241-4b9b-f209-d812528a0606"
      },
      "outputs": [
        {
          "data": {
            "image/png": "[encoded data removed]",
            "text/plain": [
              "<Figure size 640x480 with 3 Axes>"
            ]
          },
          "metadata": {},
          "output_type": "display_data"
        }
      ],
      "source": [
        "surfaces = transforms.ToTimesurface(sensor_size=sensor_size, dt=99000, tau=100000)(events_denoised)\n",
        "\n",
        "n_events = events_denoised.shape[0]\n",
        "n_events_per_slice = n_events // 3\n",
        "fig, axes = plt.subplots(1, 3)\n",
        "for i, axis in enumerate(axes):\n",
        "    surf = surfaces[i]\n",
        "    axis.imshow(surf[1] - surf[0])  # originally was 0 - 1 in docs\n",
        "    axis.axis(\"off\")\n",
        "plt.tight_layout()"
      ]
    },
    {
      "cell_type": "markdown",
      "metadata": {
        "id": "5b-89AtucaQz"
      },
      "source": [
        "### Create DataLoaders\n",
        "\n",
        "We stick with FrameTransform representation for now."
      ]
    },
    {
      "cell_type": "code",
      "execution_count": null,
      "metadata": {
        "id": "VdYCwBn6caQz"
      },
      "outputs": [],
      "source": [
        "FILTER_TIME = 10000  # Max ms between events otherwise get filtered\n",
        "N_TIME_BINS = 3  # No. saccades\n",
        "\n",
        "denoise_transform = transforms.Denoise(filter_time=FILTER_TIME)\n",
        "frame_transform = transforms.ToFrame(sensor_size=sensor_size, n_time_bins=N_TIME_BINS)\n",
        "type_transform = transforms.NumpyAsType(dtype = np.float32)  # Events must match weight dtype (torch.float32)\n",
        "\n",
        "transform = transforms.Compose([denoise_transform, frame_transform, type_transform])\n",
        "\n",
        "train_dataset = tonic.datasets.NMNIST(\"../data\", train=True, transform=transform)\n",
        "test_dataset = tonic.datasets.NMNIST(\"../data\", train=False, transform=transform)"
      ]
    },
    {
      "cell_type": "code",
      "execution_count": null,
      "metadata": {
        "id": "7cSoJt5PcaQz"
      },
      "outputs": [],
      "source": [
        "# Load Dataloaders\n",
        "BATCH_SIZE = 128\n",
        "\n",
        "train_dataloader = DataLoader(train_dataset, batch_size=BATCH_SIZE, shuffle=True, drop_last=True)\n",
        "test_dataloader = DataLoader(test_dataset, batch_size=BATCH_SIZE, shuffle=True, drop_last=True)"
      ]
    },
    {
      "cell_type": "code",
      "execution_count": null,
      "metadata": {
        "id": "Ls63dlTlcaQz",
        "outputId": "fa68c139-3397-447e-f127-00ea99a0786e"
      },
      "outputs": [
        {
          "name": "stdout",
          "output_type": "stream",
          "text": [
            "torch.Size([128, 3, 2, 34, 34]) 7\n"
          ]
        },
        {
          "data": {
            "image/png": "[encoded data removed]",
            "text/plain": [
              "<Figure size 1000x800 with 3 Axes>"
            ]
          },
          "metadata": {},
          "output_type": "display_data"
        }
      ],
      "source": [
        "frames, target = next(iter(train_dataloader))\n",
        "print(frames.shape, target[0].item())\n",
        "plot_frames(frames[0].squeeze())"
      ]
    },
    {
      "cell_type": "markdown",
      "metadata": {
        "id": "pfRAVykScaQ0"
      },
      "source": [
        "## Define Network\n",
        "\n",
        "For now, feed each frame one by one to network, flattening the polarities (ON and OFF events)"
      ]
    },
    {
      "cell_type": "code",
      "execution_count": null,
      "metadata": {
        "id": "bM7q0DlPcaQ0",
        "outputId": "802af1ae-df74-4d7e-bd30-3e2d070b551c"
      },
      "outputs": [
        {
          "data": {
            "text/plain": [
              "(torch.Size([128, 3, 2, 34, 34]),\n",
              " torch.Size([2312]),\n",
              " torch.Tensor,\n",
              " torch.float32)"
            ]
          },
          "execution_count": 23,
          "metadata": {},
          "output_type": "execute_result"
        }
      ],
      "source": [
        "frames.shape, frames[0,0].flatten().shape, type(frames), frames.dtype"
      ]
    },
    {
      "cell_type": "code",
      "execution_count": null,
      "metadata": {
        "id": "uTLU1PtDcaQ0",
        "outputId": "41d75d41-bc1b-4be8-ad58-2718623bd6d3"
      },
      "outputs": [
        {
          "name": "stdout",
          "output_type": "stream",
          "text": [
            "NUM_INPUTS: 2312, NUM_HIDDENS: 1000, NUM_OUTPUTS: 10\n"
          ]
        }
      ],
      "source": [
        "TAU = 5e-3\n",
        "DT = 1  # ms\n",
        "BETA = 0.9\n",
        "THRESHOLD = 1.0\n",
        "NUM_STEPS = 3  # Number of saccades as earlier\n",
        "\n",
        "NUM_INPUTS = frames[0,0].flatten().shape[0]  # Take 1 example & 1 time frame, flatten other dims\n",
        "NUM_HIDDENS = 1000  # Design choice\n",
        "NUM_OUTPUTS = 10  # Number of output classes\n",
        "print(f\"NUM_INPUTS: {NUM_INPUTS}, NUM_HIDDENS: {NUM_HIDDENS}, NUM_OUTPUTS: {NUM_OUTPUTS}\")\n",
        "\n",
        "device = torch.device(\"cuda\") if torch.cuda.is_available() else torch.device(\"cpu\")"
      ]
    },
    {
      "cell_type": "code",
      "execution_count": null,
      "metadata": {
        "id": "7rKHN34TcaQ0",
        "outputId": "64a9af37-6858-4334-970c-b5c68e094819"
      },
      "outputs": [
        {
          "data": {
            "text/plain": [
              "Net(\n",
              "  (fc1): Linear(in_features=2312, out_features=1000, bias=True)\n",
              "  (lif1): Leaky()\n",
              "  (fc2): Linear(in_features=1000, out_features=10, bias=True)\n",
              "  (lif2): Leaky()\n",
              ")"
            ]
          },
          "execution_count": 85,
          "metadata": {},
          "output_type": "execute_result"
        }
      ],
      "source": [
        "# class Net(nn.Module):\n",
        "#     \"\"\"Simple 3-layer, feed-forward SNN\"\"\"\n",
        "\n",
        "#     def __init__(self, num_inputs: int, num_hiddens: int, num_outputs: int,\n",
        "#                  tau: float, dt, beta: float, threshold: float, num_steps: int):\n",
        "#         \"\"\"Initialise hyperparameters and architecture\"\"\"\n",
        "#         super().__init__()  # Get good stuff from pytorch.nn.Module\n",
        "\n",
        "#         # Hyperparams\n",
        "#         self.tau = tau\n",
        "#         self.dt = dt\n",
        "#         self.beta = beta\n",
        "#         self.threshold = threshold\n",
        "#         self.num_steps = num_steps  # No. simulation steps for 1 example\n",
        "\n",
        "#         # Architecture\n",
        "#         self.fc1 = nn.Linear(in_features=num_inputs, out_features=num_hiddens)\n",
        "#         self.lif1 = snn.Leaky(beta=beta)\n",
        "#         self.fc2 = nn.Linear(in_features=num_hiddens, out_features=num_outputs)\n",
        "#         self.lif2 = snn.Leaky(beta=beta)\n",
        "\n",
        "#     def forward(self, x: torch.Tensor):\n",
        "#         \"\"\"\n",
        "#         Parameters:\n",
        "#             x: Input tensor (time_index, BATCH_SIZE, features_unrolled)\"\"\"\n",
        "#         # Initialise membrane potential tensors\n",
        "#         mem1 = self.lif1.init_leaky()\n",
        "#         mem2 = self.lif2.init_leaky()\n",
        "\n",
        "#         # Create arrays to store spikes over time\n",
        "#         spk2_rec = []\n",
        "#         mem2_rec = []\n",
        "\n",
        "#         # Iterate over all timesteps for 1 example\n",
        "#         for step in range(self.num_steps):\n",
        "#             # TODO: x is not spikes, but this generates effectively I = WX for input to LIF potential\n",
        "#             # Also same x is fed into network at each time, should be probabilistic spike over time instead, x[step] (index in time)\n",
        "#             cur1 = self.fc1(x[step])\n",
        "#             spk1, mem1 = self.lif1(cur1, mem1)\n",
        "#             cur2 = self.fc2(spk1)\n",
        "#             spk2, mem2 = self.lif2(cur2, mem2)\n",
        "\n",
        "#             spk2_rec.append(spk2)  # Store spike outputs & membrane voltage\n",
        "#             mem2_rec.append(mem2)\n",
        "\n",
        "#         return torch.stack(spk2_rec, dim=0), torch.stack(mem2_rec)\n",
        "\n",
        "# net = Net(num_inputs=NUM_INPUTS, num_hiddens=NUM_HIDDENS, num_outputs=NUM_OUTPUTS,\n",
        "#           tau=TAU, dt=DT, beta=BETA, threshold=THRESHOLD, num_steps=NUM_STEPS).to(device)\n",
        "# net"
      ]
    },
    {
      "cell_type": "code",
      "execution_count": null,
      "metadata": {
        "id": "xhM22HN9caQ0",
        "outputId": "a49a5416-0940-4770-e986-12bd2b2d7a2d"
      },
      "outputs": [
        {
          "data": {
            "text/plain": [
              "Net(\n",
              "  (fc1): Linear(in_features=2312, out_features=1000, bias=True)\n",
              "  (lif1): Leaky()\n",
              "  (fc2): Linear(in_features=1000, out_features=10, bias=True)\n",
              "  (lif2): Leaky()\n",
              ")"
            ]
          },
          "execution_count": 25,
          "metadata": {},
          "output_type": "execute_result"
        }
      ],
      "source": [
        "class Net(nn.Module):\n",
        "    \"\"\"Simple 3-layer, feed-forward SNN\"\"\"\n",
        "\n",
        "    def __init__(self, num_inputs: int, num_hiddens: int, num_outputs: int,\n",
        "                 tau: float, dt, beta: float, threshold: float, num_steps: int):\n",
        "        \"\"\"Initialise hyperparameters and architecture\"\"\"\n",
        "        super().__init__()  # Get good stuff from pytorch.nn.Module\n",
        "\n",
        "        # Hyperparams\n",
        "        self.tau = tau\n",
        "        self.dt = dt\n",
        "        self.beta = beta\n",
        "        self.threshold = threshold\n",
        "        self.num_steps = num_steps  # No. simulation steps for 1 example\n",
        "\n",
        "        # Architecture\n",
        "        self.fc1 = nn.Linear(in_features=num_inputs, out_features=num_hiddens)\n",
        "        self.lif1 = snn.Leaky(beta=beta)\n",
        "        self.fc2 = nn.Linear(in_features=num_hiddens, out_features=num_outputs)\n",
        "        self.lif2 = snn.Leaky(beta=beta)\n",
        "\n",
        "    def forward(self, x: torch.Tensor):\n",
        "        \"\"\"\n",
        "        Parameters:\n",
        "            x: Input tensor (BATCH_SIZE, time_index, polarity, H, W)\n",
        "        \"\"\"\n",
        "        # Put time index first, then flatten -> (time_index, BATCH_SIZE, features_unrolled)\n",
        "        x = x.swapaxes(0, 1).flatten(start_dim=2)\n",
        "        # print(f\"x dtype: {x.dtype}, fc1 dtype: {self.fc1.weight.dtype}\")\n",
        "        # print(f\"x shape: {x.shape}, fc1 shape: {self.fc1.weight.shape}\")\n",
        "\n",
        "        # Initialise membrane potential tensors\n",
        "        mem1 = self.lif1.init_leaky()\n",
        "        mem2 = self.lif2.init_leaky()\n",
        "\n",
        "        # Create arrays to store spikes over time\n",
        "        spk2_rec = []\n",
        "        mem2_rec = []\n",
        "\n",
        "        # Iterate over all timesteps for 1 example\n",
        "        for step in range(self.num_steps):\n",
        "            # TODO: x is not spikes, but this generates effectively I = WX for input to LIF potential\n",
        "            # Also same x is fed into network at each time, should be probabilistic spike over time instead, x[step] (index in time)\n",
        "            cur1 = self.fc1(x[step])\n",
        "            spk1, mem1 = self.lif1(cur1, mem1)\n",
        "            cur2 = self.fc2(spk1)\n",
        "            spk2, mem2 = self.lif2(cur2, mem2)\n",
        "\n",
        "            spk2_rec.append(spk2)  # Store spike outputs & membrane voltage\n",
        "            mem2_rec.append(mem2)\n",
        "\n",
        "        return torch.stack(spk2_rec, dim=0), torch.stack(mem2_rec)\n",
        "\n",
        "net = Net(num_inputs=NUM_INPUTS, num_hiddens=NUM_HIDDENS, num_outputs=NUM_OUTPUTS,\n",
        "          tau=TAU, dt=DT, beta=BETA, threshold=THRESHOLD, num_steps=NUM_STEPS).to(device)\n",
        "net"
      ]
    },
    {
      "cell_type": "markdown",
      "metadata": {
        "id": "w51u3-WlcaQ0"
      },
      "source": [
        "* `fc1` applies a linear transformation to all input pixels from the MNIST dataset;\n",
        "* `lif1` integrates the weighted input over time, emitting a spike if the threshold condition is met;\n",
        "* `fc2` applies a linear transformation to the output spikes of `lif1`;\n",
        "* `lif2` is another spiking neuron layer, integrating the weighted spikes over time."
      ]
    },
    {
      "cell_type": "markdown",
      "metadata": {
        "id": "zeyeNf9McaQ1"
      },
      "source": [
        "## Training"
      ]
    },
    {
      "cell_type": "markdown",
      "metadata": {
        "id": "mvOpbHtycaQ1"
      },
      "source": [
        "### Define accuracy metric"
      ]
    },
    {
      "cell_type": "code",
      "execution_count": null,
      "metadata": {
        "id": "qFpWuw9HcaQ1",
        "outputId": "41512efa-3859-4bdf-d5a2-9671010971b4"
      },
      "outputs": [
        {
          "data": {
            "text/plain": [
              "(torch.Size([128, 3, 2, 34, 34]), torch.Size([128]), torch.float32)"
            ]
          },
          "execution_count": 26,
          "metadata": {},
          "output_type": "execute_result"
        }
      ],
      "source": [
        "data, targets = next(iter(train_dataloader))\n",
        "# data = data.swapaxes(0 ,1)  # time-first, BATCH_SIZE, polarity, H, W\n",
        "data.shape, targets.shape, data.dtype"
      ]
    },
    {
      "cell_type": "code",
      "execution_count": null,
      "metadata": {
        "id": "bDEnjuuQcaQ1",
        "outputId": "95aa3d47-1e52-4cbf-a9a3-5c4c382f2452"
      },
      "outputs": [
        {
          "data": {
            "text/plain": [
              "torch.Size([3, 128, 10])"
            ]
          },
          "execution_count": 27,
          "metadata": {},
          "output_type": "execute_result"
        }
      ],
      "source": [
        "net(data)[0].shape  # Output shape"
      ]
    },
    {
      "cell_type": "code",
      "execution_count": null,
      "metadata": {
        "id": "spVMoMQ4caQ1"
      },
      "outputs": [],
      "source": [
        "def batch_prediction_accuracy(data: torch.Tensor, targets, net: nn.Module, train=False):\n",
        "    \"\"\"Classification accuracy\n",
        "\n",
        "    Use rate coding. I.e. take neuron with highest firing rate (spike count) as predicted class.\n",
        "    Parameters:\n",
        "        data: batch of data, size (BATCH_SIZE, timesteps, polarity, H, W)\n",
        "        targets:\n",
        "        net: network to query\n",
        "    \"\"\"\n",
        "    output_spikes, _ = net(data)\n",
        "    _, idxs = output_spikes.sum(dim=0).max(1)  # Sum output spikes over time, then find max neuron\n",
        "    acc = np.mean((targets == idxs).detach().cpu().numpy())\n",
        "\n",
        "    if train:\n",
        "        print(f\"Train set accuracy for a single minibatch: {acc*100:.2f}%\")\n",
        "    else:\n",
        "        print(f\"Test set accuracy for a single minibatch: {acc*100:.2f}%\")\n",
        "\n",
        "def train_printer(data, targets, net, epoch, counter, iter_counter,\n",
        "                  loss_hist, test_loss_hist, test_data, test_targets):\n",
        "    print(f\"Epoch {epoch}, Iteration {iter_counter}\")\n",
        "    print(f\"Train Set Loss: {loss_hist[counter]:.2f}\")\n",
        "    print(f\"Test Set Loss: {test_loss_hist[counter]:.2f}\")\n",
        "    batch_prediction_accuracy(data, targets, net, train=True)\n",
        "    batch_prediction_accuracy(test_data, test_targets, net, train=False)\n",
        "    print(\"\\n\")"
      ]
    },
    {
      "cell_type": "markdown",
      "metadata": {
        "id": "2nJFyIEHcaQ1"
      },
      "source": [
        "### Define Loss"
      ]
    },
    {
      "cell_type": "code",
      "execution_count": null,
      "metadata": {
        "id": "ACEUFG_4caQ1"
      },
      "outputs": [],
      "source": [
        "# Use pytorch cross-entropy loss on membrane potentials of output neurons\n",
        "# membrane_potentials_i -> softmax_i -> cross_entropy_i\n",
        "\n",
        "loss = nn.CrossEntropyLoss()"
      ]
    },
    {
      "cell_type": "code",
      "execution_count": null,
      "metadata": {
        "id": "jGLxS9k0caQ1"
      },
      "outputs": [],
      "source": [
        "LR = 5e-4\n",
        "optimizer = torch.optim.Adam(net.parameters(), lr=LR, betas=(0.9, 0.999))"
      ]
    },
    {
      "cell_type": "markdown",
      "metadata": {
        "id": "9lT7HrLQcaQ1"
      },
      "source": [
        "### Train and evaluation pipeline for 1 minibatch"
      ]
    },
    {
      "cell_type": "code",
      "execution_count": null,
      "metadata": {
        "id": "x1P-imApcaQ2",
        "outputId": "2e83496f-385d-474b-ee40-4482e2dd36d4"
      },
      "outputs": [
        {
          "name": "stdout",
          "output_type": "stream",
          "text": [
            "databatch size: torch.Size([128, 3, 2, 34, 34]), targets size: torch.Size([128])\n"
          ]
        }
      ],
      "source": [
        "data, targets = next(iter(train_dataloader))\n",
        "data = data.to(device)\n",
        "targets = targets.to(device)\n",
        "print(f\"databatch size: {data.shape}, targets size: {targets.shape}\")"
      ]
    },
    {
      "cell_type": "code",
      "execution_count": null,
      "metadata": {
        "id": "zO6L5ATccaQ2",
        "outputId": "257b1d39-c08c-4bbd-c107-a4c2c818a49b"
      },
      "outputs": [
        {
          "name": "stdout",
          "output_type": "stream",
          "text": [
            "torch.Size([3, 128, 10])\n"
          ]
        }
      ],
      "source": [
        "# spk_rec, mem_rec = net(data.view(BATCH_SIZE, -1))\n",
        "spk_rec, mem_rec = net(data)\n",
        "print(mem_rec.shape)  # 3 time steps, 128 samples in minibatch, 10 output features/classes"
      ]
    },
    {
      "cell_type": "code",
      "execution_count": null,
      "metadata": {
        "id": "C2DAqE-8caQ2",
        "outputId": "f0e22744-0263-479c-f741-dcee9909403f"
      },
      "outputs": [
        {
          "data": {
            "text/plain": [
              "tensor([-0.2695, -0.1517,  0.1913, -0.0054,  0.0528,  0.2860, -0.2476, -0.0263,\n",
              "        -0.0785,  0.0076], grad_fn=<SelectBackward0>)"
            ]
          },
          "execution_count": 36,
          "metadata": {},
          "output_type": "execute_result"
        }
      ],
      "source": [
        "mem_rec[0,0]  # For 1 timestep, for 1 example, 10 output membrane voltages"
      ]
    },
    {
      "cell_type": "code",
      "execution_count": null,
      "metadata": {
        "id": "hBe-Beb9caQ2",
        "outputId": "002b8197-c27a-4db5-abd3-c93c6a1590f6"
      },
      "outputs": [
        {
          "name": "stdout",
          "output_type": "stream",
          "text": [
            "Training loss: 7.042\n"
          ]
        }
      ],
      "source": [
        "# Initialise loss value\n",
        "dtype = torch.float\n",
        "loss_val = torch.zeros((1), dtype=dtype, device=device)\n",
        "\n",
        "for timestep in range(NUM_STEPS):\n",
        "    loss_val += loss(mem_rec[timestep], targets)\n",
        "\n",
        "print(f\"Training loss: {loss_val.item():.3f}\")"
      ]
    },
    {
      "cell_type": "code",
      "execution_count": null,
      "metadata": {
        "id": "CFxW9KPNcaQ2",
        "outputId": "dacb597e-9534-4532-83dc-bd0c9c6fe39c"
      },
      "outputs": [
        {
          "name": "stdout",
          "output_type": "stream",
          "text": [
            "Train set accuracy for a single minibatch: 8.59%\n"
          ]
        }
      ],
      "source": [
        "batch_prediction_accuracy(data, targets, net, train=True)"
      ]
    },
    {
      "cell_type": "code",
      "execution_count": null,
      "metadata": {
        "id": "lGsVlL3bcaQ6"
      },
      "outputs": [],
      "source": [
        "# Single weight update iteration\n",
        "optimizer.zero_grad()  # Clear previous gradients\n",
        "loss_val.backward()\n",
        "optimizer.step()"
      ]
    },
    {
      "cell_type": "code",
      "execution_count": null,
      "metadata": {
        "id": "XXlUeVRscaQ6",
        "outputId": "8e6fb563-c121-4122-ab4c-393d45ffdb7e"
      },
      "outputs": [
        {
          "name": "stdout",
          "output_type": "stream",
          "text": [
            "Training loss: 5.554\n",
            "Train set accuracy for a single minibatch: 25.00%\n"
          ]
        }
      ],
      "source": [
        "# Re print accuracy after training\n",
        "spk_rec, mem_rec = net(data)\n",
        "loss_val = torch.zeros((1), dtype=dtype, device=device)\n",
        "\n",
        "for timestep in range(NUM_STEPS):\n",
        "    loss_val += loss(mem_rec[timestep], targets)\n",
        "\n",
        "print(f\"Training loss: {loss_val.item():.3f}\")\n",
        "batch_prediction_accuracy(data, targets, net, train=True)"
      ]
    },
    {
      "cell_type": "markdown",
      "metadata": {
        "id": "kYpxBcL7caQ6"
      },
      "source": [
        "- Note loss has decreased after iteration"
      ]
    },
    {
      "cell_type": "markdown",
      "metadata": {
        "id": "xvE1xEd_caQ6"
      },
      "source": [
        "### Training loop"
      ]
    },
    {
      "cell_type": "code",
      "execution_count": null,
      "metadata": {
        "id": "lkjPKpFHcaQ6",
        "outputId": "bcae360b-1e00-4649-d6b6-180427f86eb7"
      },
      "outputs": [
        {
          "name": "stdout",
          "output_type": "stream",
          "text": [
            "Epoch 0, Iteration 0\n",
            "Train Set Loss: 66.13\n",
            "Test Set Loss: 47.93\n",
            "Train set accuracy for a single minibatch: 0.00%\n",
            "Test set accuracy for a single minibatch: 0.00%\n",
            "\n",
            "\n",
            "Epoch 0, Iteration 50\n",
            "Train Set Loss: 33.21\n",
            "Test Set Loss: 72.99\n",
            "Train set accuracy for a single minibatch: 100.00%\n",
            "Test set accuracy for a single minibatch: 0.00%\n",
            "\n",
            "\n",
            "Epoch 0, Iteration 100\n",
            "Train Set Loss: 6.46\n",
            "Test Set Loss: 7.50\n",
            "Train set accuracy for a single minibatch: 100.00%\n",
            "Test set accuracy for a single minibatch: 100.00%\n",
            "\n",
            "\n",
            "Epoch 0, Iteration 150\n",
            "Train Set Loss: 8.89\n",
            "Test Set Loss: 4.60\n",
            "Train set accuracy for a single minibatch: 100.00%\n",
            "Test set accuracy for a single minibatch: 100.00%\n",
            "\n",
            "\n",
            "Epoch 0, Iteration 200\n",
            "Train Set Loss: 81.46\n",
            "Test Set Loss: 131.17\n",
            "Train set accuracy for a single minibatch: 0.00%\n",
            "Test set accuracy for a single minibatch: 0.00%\n",
            "\n",
            "\n",
            "Epoch 0, Iteration 250\n",
            "Train Set Loss: 4.92\n",
            "Test Set Loss: 32.67\n",
            "Train set accuracy for a single minibatch: 100.00%\n",
            "Test set accuracy for a single minibatch: 0.00%\n",
            "\n",
            "\n",
            "Epoch 0, Iteration 300\n",
            "Train Set Loss: 13.01\n",
            "Test Set Loss: 4.26\n",
            "Train set accuracy for a single minibatch: 100.00%\n",
            "Test set accuracy for a single minibatch: 100.00%\n",
            "\n",
            "\n",
            "Epoch 0, Iteration 350\n",
            "Train Set Loss: 1.05\n",
            "Test Set Loss: 27.87\n",
            "Train set accuracy for a single minibatch: 100.00%\n",
            "Test set accuracy for a single minibatch: 0.00%\n",
            "\n",
            "\n",
            "Epoch 0, Iteration 400\n",
            "Train Set Loss: 49.42\n",
            "Test Set Loss: 9.12\n",
            "Train set accuracy for a single minibatch: 0.00%\n",
            "Test set accuracy for a single minibatch: 100.00%\n",
            "\n",
            "\n",
            "Epoch 0, Iteration 450\n",
            "Train Set Loss: 22.88\n",
            "Test Set Loss: 1.39\n",
            "Train set accuracy for a single minibatch: 100.00%\n",
            "Test set accuracy for a single minibatch: 100.00%\n",
            "\n",
            "\n",
            "Epoch 0, Iteration 500\n",
            "Train Set Loss: 1.90\n",
            "Test Set Loss: 1.63\n",
            "Train set accuracy for a single minibatch: 100.00%\n",
            "Test set accuracy for a single minibatch: 100.00%\n",
            "\n",
            "\n",
            "Epoch 0, Iteration 550\n",
            "Train Set Loss: 13.03\n",
            "Test Set Loss: 2.00\n",
            "Train set accuracy for a single minibatch: 100.00%\n",
            "Test set accuracy for a single minibatch: 100.00%\n",
            "\n",
            "\n",
            "Epoch 0, Iteration 600\n",
            "Train Set Loss: 2.09\n",
            "Test Set Loss: 87.14\n",
            "Train set accuracy for a single minibatch: 100.00%\n",
            "Test set accuracy for a single minibatch: 0.00%\n",
            "\n",
            "\n",
            "Epoch 0, Iteration 650\n",
            "Train Set Loss: 22.35\n",
            "Test Set Loss: 23.52\n",
            "Train set accuracy for a single minibatch: 100.00%\n",
            "Test set accuracy for a single minibatch: 100.00%\n",
            "\n",
            "\n",
            "Epoch 0, Iteration 700\n",
            "Train Set Loss: 6.38\n",
            "Test Set Loss: 1.42\n",
            "Train set accuracy for a single minibatch: 100.00%\n",
            "Test set accuracy for a single minibatch: 100.00%\n",
            "\n",
            "\n",
            "Epoch 0, Iteration 750\n",
            "Train Set Loss: 4.60\n",
            "Test Set Loss: 2.03\n",
            "Train set accuracy for a single minibatch: 100.00%\n",
            "Test set accuracy for a single minibatch: 100.00%\n",
            "\n",
            "\n",
            "Epoch 0, Iteration 800\n",
            "Train Set Loss: 3.79\n",
            "Test Set Loss: 21.40\n",
            "Train set accuracy for a single minibatch: 100.00%\n",
            "Test set accuracy for a single minibatch: 100.00%\n",
            "\n",
            "\n",
            "Epoch 0, Iteration 850\n",
            "Train Set Loss: 0.46\n",
            "Test Set Loss: 1.61\n",
            "Train set accuracy for a single minibatch: 100.00%\n",
            "Test set accuracy for a single minibatch: 100.00%\n",
            "\n",
            "\n",
            "Epoch 0, Iteration 900\n",
            "Train Set Loss: 1.65\n",
            "Test Set Loss: 13.75\n",
            "Train set accuracy for a single minibatch: 100.00%\n",
            "Test set accuracy for a single minibatch: 100.00%\n",
            "\n",
            "\n",
            "Epoch 0, Iteration 950\n",
            "Train Set Loss: 5.89\n",
            "Test Set Loss: 2.24\n",
            "Train set accuracy for a single minibatch: 100.00%\n",
            "Test set accuracy for a single minibatch: 100.00%\n",
            "\n",
            "\n",
            "Epoch 0, Iteration 1000\n",
            "Train Set Loss: 2.88\n",
            "Test Set Loss: 0.54\n",
            "Train set accuracy for a single minibatch: 100.00%\n",
            "Test set accuracy for a single minibatch: 100.00%\n",
            "\n",
            "\n",
            "Epoch 0, Iteration 1050\n",
            "Train Set Loss: 4.77\n",
            "Test Set Loss: 7.87\n",
            "Train set accuracy for a single minibatch: 100.00%\n",
            "Test set accuracy for a single minibatch: 100.00%\n",
            "\n",
            "\n",
            "Epoch 0, Iteration 1100\n",
            "Train Set Loss: 3.08\n",
            "Test Set Loss: 4.73\n",
            "Train set accuracy for a single minibatch: 100.00%\n",
            "Test set accuracy for a single minibatch: 100.00%\n",
            "\n",
            "\n",
            "Epoch 0, Iteration 1150\n",
            "Train Set Loss: 4.23\n",
            "Test Set Loss: 0.78\n",
            "Train set accuracy for a single minibatch: 100.00%\n",
            "Test set accuracy for a single minibatch: 100.00%\n",
            "\n",
            "\n",
            "Epoch 0, Iteration 1200\n",
            "Train Set Loss: 2.40\n",
            "Test Set Loss: 3.84\n",
            "Train set accuracy for a single minibatch: 100.00%\n",
            "Test set accuracy for a single minibatch: 100.00%\n",
            "\n",
            "\n",
            "Epoch 0, Iteration 1250\n",
            "Train Set Loss: 1.77\n",
            "Test Set Loss: 26.74\n",
            "Train set accuracy for a single minibatch: 100.00%\n",
            "Test set accuracy for a single minibatch: 100.00%\n",
            "\n",
            "\n",
            "Epoch 0, Iteration 1300\n",
            "Train Set Loss: 0.79\n",
            "Test Set Loss: 5.01\n",
            "Train set accuracy for a single minibatch: 100.00%\n",
            "Test set accuracy for a single minibatch: 100.00%\n",
            "\n",
            "\n",
            "Epoch 0, Iteration 1350\n",
            "Train Set Loss: 4.92\n",
            "Test Set Loss: 1.28\n",
            "Train set accuracy for a single minibatch: 100.00%\n",
            "Test set accuracy for a single minibatch: 100.00%\n",
            "\n",
            "\n",
            "Epoch 0, Iteration 1400\n",
            "Train Set Loss: 2.14\n",
            "Test Set Loss: 17.46\n",
            "Train set accuracy for a single minibatch: 100.00%\n",
            "Test set accuracy for a single minibatch: 100.00%\n",
            "\n",
            "\n",
            "Epoch 0, Iteration 1450\n",
            "Train Set Loss: 133.96\n",
            "Test Set Loss: 2.49\n",
            "Train set accuracy for a single minibatch: 0.00%\n",
            "Test set accuracy for a single minibatch: 100.00%\n",
            "\n",
            "\n",
            "Epoch 0, Iteration 1500\n",
            "Train Set Loss: 1.66\n",
            "Test Set Loss: 14.27\n",
            "Train set accuracy for a single minibatch: 100.00%\n",
            "Test set accuracy for a single minibatch: 100.00%\n",
            "\n",
            "\n",
            "Epoch 0, Iteration 1550\n",
            "Train Set Loss: 114.10\n",
            "Test Set Loss: 1.96\n",
            "Train set accuracy for a single minibatch: 0.00%\n",
            "Test set accuracy for a single minibatch: 100.00%\n",
            "\n",
            "\n",
            "Epoch 0, Iteration 1600\n",
            "Train Set Loss: 6.47\n",
            "Test Set Loss: 2.01\n",
            "Train set accuracy for a single minibatch: 100.00%\n",
            "Test set accuracy for a single minibatch: 100.00%\n",
            "\n",
            "\n",
            "Epoch 0, Iteration 1650\n",
            "Train Set Loss: 3.01\n",
            "Test Set Loss: 85.80\n",
            "Train set accuracy for a single minibatch: 100.00%\n",
            "Test set accuracy for a single minibatch: 0.00%\n",
            "\n",
            "\n",
            "Epoch 0, Iteration 1700\n",
            "Train Set Loss: 1.85\n",
            "Test Set Loss: 20.77\n",
            "Train set accuracy for a single minibatch: 100.00%\n",
            "Test set accuracy for a single minibatch: 100.00%\n",
            "\n",
            "\n",
            "Epoch 0, Iteration 1750\n",
            "Train Set Loss: 13.61\n",
            "Test Set Loss: 2.18\n",
            "Train set accuracy for a single minibatch: 100.00%\n",
            "Test set accuracy for a single minibatch: 100.00%\n",
            "\n",
            "\n",
            "Epoch 0, Iteration 1800\n",
            "Train Set Loss: 4.16\n",
            "Test Set Loss: 15.52\n",
            "Train set accuracy for a single minibatch: 100.00%\n",
            "Test set accuracy for a single minibatch: 100.00%\n",
            "\n",
            "\n",
            "Epoch 0, Iteration 1850\n",
            "Train Set Loss: 75.61\n",
            "Test Set Loss: 11.29\n",
            "Train set accuracy for a single minibatch: 0.00%\n",
            "Test set accuracy for a single minibatch: 0.00%\n",
            "\n",
            "\n",
            "Epoch 0, Iteration 1900\n",
            "Train Set Loss: 2.69\n",
            "Test Set Loss: 163.76\n",
            "Train set accuracy for a single minibatch: 100.00%\n",
            "Test set accuracy for a single minibatch: 0.00%\n",
            "\n",
            "\n",
            "Epoch 0, Iteration 1950\n",
            "Train Set Loss: 17.70\n",
            "Test Set Loss: 3.89\n",
            "Train set accuracy for a single minibatch: 100.00%\n",
            "Test set accuracy for a single minibatch: 100.00%\n",
            "\n",
            "\n",
            "Epoch 0, Iteration 2000\n",
            "Train Set Loss: 1.15\n",
            "Test Set Loss: 0.98\n",
            "Train set accuracy for a single minibatch: 100.00%\n",
            "Test set accuracy for a single minibatch: 100.00%\n",
            "\n",
            "\n",
            "Epoch 0, Iteration 2050\n",
            "Train Set Loss: 1.68\n",
            "Test Set Loss: 3.01\n",
            "Train set accuracy for a single minibatch: 100.00%\n",
            "Test set accuracy for a single minibatch: 100.00%\n",
            "\n",
            "\n",
            "Epoch 0, Iteration 2100\n",
            "Train Set Loss: 1.23\n",
            "Test Set Loss: 5.06\n",
            "Train set accuracy for a single minibatch: 100.00%\n",
            "Test set accuracy for a single minibatch: 100.00%\n",
            "\n",
            "\n",
            "Epoch 0, Iteration 2150\n",
            "Train Set Loss: 1.13\n",
            "Test Set Loss: 1.57\n",
            "Train set accuracy for a single minibatch: 100.00%\n",
            "Test set accuracy for a single minibatch: 100.00%\n",
            "\n",
            "\n",
            "Epoch 0, Iteration 2200\n",
            "Train Set Loss: 15.23\n",
            "Test Set Loss: 24.66\n",
            "Train set accuracy for a single minibatch: 100.00%\n",
            "Test set accuracy for a single minibatch: 0.00%\n",
            "\n",
            "\n",
            "Epoch 0, Iteration 2250\n",
            "Train Set Loss: 2.70\n",
            "Test Set Loss: 6.92\n",
            "Train set accuracy for a single minibatch: 100.00%\n",
            "Test set accuracy for a single minibatch: 100.00%\n",
            "\n",
            "\n",
            "Epoch 0, Iteration 2300\n",
            "Train Set Loss: 29.74\n",
            "Test Set Loss: 1.07\n",
            "Train set accuracy for a single minibatch: 0.00%\n",
            "Test set accuracy for a single minibatch: 100.00%\n",
            "\n",
            "\n",
            "Epoch 0, Iteration 2350\n",
            "Train Set Loss: 1.21\n",
            "Test Set Loss: 2.36\n",
            "Train set accuracy for a single minibatch: 100.00%\n",
            "Test set accuracy for a single minibatch: 100.00%\n",
            "\n",
            "\n",
            "Epoch 0, Iteration 2400\n",
            "Train Set Loss: 0.30\n",
            "Test Set Loss: 108.84\n",
            "Train set accuracy for a single minibatch: 100.00%\n",
            "Test set accuracy for a single minibatch: 0.00%\n",
            "\n",
            "\n",
            "Epoch 0, Iteration 2450\n",
            "Train Set Loss: 54.64\n",
            "Test Set Loss: 1.61\n",
            "Train set accuracy for a single minibatch: 0.00%\n",
            "Test set accuracy for a single minibatch: 100.00%\n",
            "\n",
            "\n",
            "Epoch 0, Iteration 2500\n",
            "Train Set Loss: 30.25\n",
            "Test Set Loss: 5.42\n",
            "Train set accuracy for a single minibatch: 100.00%\n",
            "Test set accuracy for a single minibatch: 100.00%\n",
            "\n",
            "\n",
            "Epoch 0, Iteration 2550\n",
            "Train Set Loss: 2.39\n",
            "Test Set Loss: 1.10\n",
            "Train set accuracy for a single minibatch: 100.00%\n",
            "Test set accuracy for a single minibatch: 100.00%\n",
            "\n",
            "\n",
            "Epoch 0, Iteration 2600\n",
            "Train Set Loss: 0.64\n",
            "Test Set Loss: 2.48\n",
            "Train set accuracy for a single minibatch: 100.00%\n",
            "Test set accuracy for a single minibatch: 100.00%\n",
            "\n",
            "\n",
            "Epoch 0, Iteration 2650\n",
            "Train Set Loss: 1.51\n",
            "Test Set Loss: 3.50\n",
            "Train set accuracy for a single minibatch: 100.00%\n",
            "Test set accuracy for a single minibatch: 100.00%\n",
            "\n",
            "\n",
            "Epoch 0, Iteration 2700\n",
            "Train Set Loss: 1.66\n",
            "Test Set Loss: 11.67\n",
            "Train set accuracy for a single minibatch: 100.00%\n",
            "Test set accuracy for a single minibatch: 100.00%\n",
            "\n",
            "\n",
            "Epoch 0, Iteration 2750\n",
            "Train Set Loss: 0.96\n",
            "Test Set Loss: 1.69\n",
            "Train set accuracy for a single minibatch: 100.00%\n",
            "Test set accuracy for a single minibatch: 100.00%\n",
            "\n",
            "\n",
            "Epoch 0, Iteration 2800\n",
            "Train Set Loss: 9.32\n",
            "Test Set Loss: 3.17\n",
            "Train set accuracy for a single minibatch: 100.00%\n",
            "Test set accuracy for a single minibatch: 100.00%\n",
            "\n",
            "\n",
            "Epoch 0, Iteration 2850\n",
            "Train Set Loss: 50.56\n",
            "Test Set Loss: 6.97\n",
            "Train set accuracy for a single minibatch: 0.00%\n",
            "Test set accuracy for a single minibatch: 100.00%\n",
            "\n",
            "\n",
            "Epoch 0, Iteration 2900\n",
            "Train Set Loss: 2.40\n",
            "Test Set Loss: 1.04\n",
            "Train set accuracy for a single minibatch: 100.00%\n",
            "Test set accuracy for a single minibatch: 100.00%\n",
            "\n",
            "\n",
            "Epoch 0, Iteration 2950\n",
            "Train Set Loss: 7.77\n",
            "Test Set Loss: 4.27\n",
            "Train set accuracy for a single minibatch: 100.00%\n",
            "Test set accuracy for a single minibatch: 100.00%\n",
            "\n",
            "\n",
            "Epoch 0, Iteration 3000\n",
            "Train Set Loss: 2.30\n",
            "Test Set Loss: 9.81\n",
            "Train set accuracy for a single minibatch: 100.00%\n",
            "Test set accuracy for a single minibatch: 100.00%\n",
            "\n",
            "\n",
            "Epoch 0, Iteration 3050\n",
            "Train Set Loss: 27.14\n",
            "Test Set Loss: 0.38\n",
            "Train set accuracy for a single minibatch: 100.00%\n",
            "Test set accuracy for a single minibatch: 100.00%\n",
            "\n",
            "\n",
            "Epoch 0, Iteration 3100\n",
            "Train Set Loss: 16.35\n",
            "Test Set Loss: 94.83\n",
            "Train set accuracy for a single minibatch: 100.00%\n",
            "Test set accuracy for a single minibatch: 0.00%\n",
            "\n",
            "\n",
            "Epoch 0, Iteration 3150\n",
            "Train Set Loss: 10.56\n",
            "Test Set Loss: 0.96\n",
            "Train set accuracy for a single minibatch: 0.00%\n",
            "Test set accuracy for a single minibatch: 100.00%\n",
            "\n",
            "\n",
            "Epoch 0, Iteration 3200\n",
            "Train Set Loss: 4.20\n",
            "Test Set Loss: 0.45\n",
            "Train set accuracy for a single minibatch: 100.00%\n",
            "Test set accuracy for a single minibatch: 100.00%\n",
            "\n",
            "\n",
            "Epoch 0, Iteration 3250\n",
            "Train Set Loss: 54.13\n",
            "Test Set Loss: 1.71\n",
            "Train set accuracy for a single minibatch: 0.00%\n",
            "Test set accuracy for a single minibatch: 100.00%\n",
            "\n",
            "\n",
            "Epoch 0, Iteration 3300\n",
            "Train Set Loss: 6.93\n",
            "Test Set Loss: 0.64\n",
            "Train set accuracy for a single minibatch: 100.00%\n",
            "Test set accuracy for a single minibatch: 100.00%\n",
            "\n",
            "\n",
            "Epoch 0, Iteration 3350\n",
            "Train Set Loss: 2.33\n",
            "Test Set Loss: 1.98\n",
            "Train set accuracy for a single minibatch: 100.00%\n",
            "Test set accuracy for a single minibatch: 100.00%\n",
            "\n",
            "\n",
            "Epoch 0, Iteration 3400\n",
            "Train Set Loss: 3.69\n",
            "Test Set Loss: 47.45\n",
            "Train set accuracy for a single minibatch: 100.00%\n",
            "Test set accuracy for a single minibatch: 0.00%\n",
            "\n",
            "\n",
            "Epoch 0, Iteration 3450\n",
            "Train Set Loss: 0.18\n",
            "Test Set Loss: 1.38\n",
            "Train set accuracy for a single minibatch: 100.00%\n",
            "Test set accuracy for a single minibatch: 100.00%\n",
            "\n",
            "\n",
            "Epoch 0, Iteration 3500\n",
            "Train Set Loss: 152.08\n",
            "Test Set Loss: 1.03\n",
            "Train set accuracy for a single minibatch: 0.00%\n",
            "Test set accuracy for a single minibatch: 100.00%\n",
            "\n",
            "\n",
            "Epoch 0, Iteration 3550\n",
            "Train Set Loss: 4.97\n",
            "Test Set Loss: 2.59\n",
            "Train set accuracy for a single minibatch: 100.00%\n",
            "Test set accuracy for a single minibatch: 100.00%\n",
            "\n",
            "\n",
            "Epoch 0, Iteration 3600\n",
            "Train Set Loss: 1.22\n",
            "Test Set Loss: 2.39\n",
            "Train set accuracy for a single minibatch: 100.00%\n",
            "Test set accuracy for a single minibatch: 100.00%\n",
            "\n",
            "\n",
            "Epoch 0, Iteration 3650\n",
            "Train Set Loss: 29.40\n",
            "Test Set Loss: 12.56\n",
            "Train set accuracy for a single minibatch: 100.00%\n",
            "Test set accuracy for a single minibatch: 100.00%\n",
            "\n",
            "\n",
            "Epoch 0, Iteration 3700\n",
            "Train Set Loss: 1.82\n",
            "Test Set Loss: 0.68\n",
            "Train set accuracy for a single minibatch: 100.00%\n",
            "Test set accuracy for a single minibatch: 100.00%\n",
            "\n",
            "\n",
            "Epoch 0, Iteration 3750\n",
            "Train Set Loss: 3.69\n",
            "Test Set Loss: 2.11\n",
            "Train set accuracy for a single minibatch: 100.00%\n",
            "Test set accuracy for a single minibatch: 100.00%\n",
            "\n",
            "\n",
            "Epoch 0, Iteration 3800\n",
            "Train Set Loss: 19.47\n",
            "Test Set Loss: 17.26\n",
            "Train set accuracy for a single minibatch: 100.00%\n",
            "Test set accuracy for a single minibatch: 100.00%\n",
            "\n",
            "\n",
            "Epoch 0, Iteration 3850\n",
            "Train Set Loss: 1.23\n",
            "Test Set Loss: 4.27\n",
            "Train set accuracy for a single minibatch: 100.00%\n",
            "Test set accuracy for a single minibatch: 100.00%\n",
            "\n",
            "\n",
            "Epoch 0, Iteration 3900\n",
            "Train Set Loss: 0.36\n",
            "Test Set Loss: 3.35\n",
            "Train set accuracy for a single minibatch: 100.00%\n",
            "Test set accuracy for a single minibatch: 100.00%\n",
            "\n",
            "\n",
            "Epoch 0, Iteration 3950\n",
            "Train Set Loss: 1.32\n",
            "Test Set Loss: 3.29\n",
            "Train set accuracy for a single minibatch: 100.00%\n",
            "Test set accuracy for a single minibatch: 100.00%\n",
            "\n",
            "\n",
            "Epoch 0, Iteration 4000\n",
            "Train Set Loss: 0.54\n",
            "Test Set Loss: 2.34\n",
            "Train set accuracy for a single minibatch: 100.00%\n",
            "Test set accuracy for a single minibatch: 100.00%\n",
            "\n",
            "\n",
            "Epoch 0, Iteration 4050\n",
            "Train Set Loss: 0.93\n",
            "Test Set Loss: 0.91\n",
            "Train set accuracy for a single minibatch: 100.00%\n",
            "Test set accuracy for a single minibatch: 100.00%\n",
            "\n",
            "\n",
            "Epoch 0, Iteration 4100\n",
            "Train Set Loss: 6.63\n",
            "Test Set Loss: 2.11\n",
            "Train set accuracy for a single minibatch: 100.00%\n",
            "Test set accuracy for a single minibatch: 100.00%\n",
            "\n",
            "\n",
            "Epoch 0, Iteration 4150\n",
            "Train Set Loss: 0.55\n",
            "Test Set Loss: 1.23\n",
            "Train set accuracy for a single minibatch: 100.00%\n",
            "Test set accuracy for a single minibatch: 100.00%\n",
            "\n",
            "\n",
            "Epoch 0, Iteration 4200\n",
            "Train Set Loss: 0.30\n",
            "Test Set Loss: 0.55\n",
            "Train set accuracy for a single minibatch: 100.00%\n",
            "Test set accuracy for a single minibatch: 100.00%\n",
            "\n",
            "\n",
            "Epoch 0, Iteration 4250\n",
            "Train Set Loss: 4.93\n",
            "Test Set Loss: 1.19\n",
            "Train set accuracy for a single minibatch: 100.00%\n",
            "Test set accuracy for a single minibatch: 100.00%\n",
            "\n",
            "\n",
            "Epoch 0, Iteration 4300\n",
            "Train Set Loss: 2.00\n",
            "Test Set Loss: 4.27\n",
            "Train set accuracy for a single minibatch: 100.00%\n",
            "Test set accuracy for a single minibatch: 100.00%\n",
            "\n",
            "\n",
            "Epoch 0, Iteration 4350\n",
            "Train Set Loss: 21.80\n",
            "Test Set Loss: 76.63\n",
            "Train set accuracy for a single minibatch: 100.00%\n",
            "Test set accuracy for a single minibatch: 0.00%\n",
            "\n",
            "\n",
            "Epoch 0, Iteration 4400\n",
            "Train Set Loss: 0.63\n",
            "Test Set Loss: 1.42\n",
            "Train set accuracy for a single minibatch: 100.00%\n",
            "Test set accuracy for a single minibatch: 100.00%\n",
            "\n",
            "\n",
            "Epoch 0, Iteration 4450\n",
            "Train Set Loss: 1.39\n",
            "Test Set Loss: 0.20\n",
            "Train set accuracy for a single minibatch: 100.00%\n",
            "Test set accuracy for a single minibatch: 100.00%\n",
            "\n",
            "\n",
            "Epoch 0, Iteration 4500\n",
            "Train Set Loss: 0.32\n",
            "Test Set Loss: 1.14\n",
            "Train set accuracy for a single minibatch: 100.00%\n",
            "Test set accuracy for a single minibatch: 100.00%\n",
            "\n",
            "\n",
            "Epoch 0, Iteration 4550\n",
            "Train Set Loss: 0.63\n",
            "Test Set Loss: 0.54\n",
            "Train set accuracy for a single minibatch: 100.00%\n",
            "Test set accuracy for a single minibatch: 100.00%\n",
            "\n",
            "\n",
            "Epoch 0, Iteration 4600\n",
            "Train Set Loss: 3.11\n",
            "Test Set Loss: 0.21\n",
            "Train set accuracy for a single minibatch: 100.00%\n",
            "Test set accuracy for a single minibatch: 100.00%\n",
            "\n",
            "\n",
            "Epoch 0, Iteration 4650\n",
            "Train Set Loss: 1.76\n",
            "Test Set Loss: 2.44\n",
            "Train set accuracy for a single minibatch: 100.00%\n",
            "Test set accuracy for a single minibatch: 100.00%\n",
            "\n",
            "\n",
            "Epoch 0, Iteration 4700\n",
            "Train Set Loss: 3.90\n",
            "Test Set Loss: 0.56\n",
            "Train set accuracy for a single minibatch: 100.00%\n",
            "Test set accuracy for a single minibatch: 100.00%\n",
            "\n",
            "\n",
            "Epoch 0, Iteration 4750\n",
            "Train Set Loss: 2.23\n",
            "Test Set Loss: 0.81\n",
            "Train set accuracy for a single minibatch: 100.00%\n",
            "Test set accuracy for a single minibatch: 100.00%\n",
            "\n",
            "\n",
            "Epoch 0, Iteration 4800\n",
            "Train Set Loss: 1.68\n",
            "Test Set Loss: 1.30\n",
            "Train set accuracy for a single minibatch: 100.00%\n",
            "Test set accuracy for a single minibatch: 100.00%\n",
            "\n",
            "\n",
            "Epoch 0, Iteration 4850\n",
            "Train Set Loss: 2.11\n",
            "Test Set Loss: 1.42\n",
            "Train set accuracy for a single minibatch: 100.00%\n",
            "Test set accuracy for a single minibatch: 100.00%\n",
            "\n",
            "\n",
            "Epoch 0, Iteration 4900\n",
            "Train Set Loss: 0.43\n",
            "Test Set Loss: 1.13\n",
            "Train set accuracy for a single minibatch: 100.00%\n",
            "Test set accuracy for a single minibatch: 100.00%\n",
            "\n",
            "\n",
            "Epoch 0, Iteration 4950\n",
            "Train Set Loss: 2.17\n",
            "Test Set Loss: 4.62\n",
            "Train set accuracy for a single minibatch: 100.00%\n",
            "Test set accuracy for a single minibatch: 100.00%\n",
            "\n",
            "\n",
            "Epoch 0, Iteration 5000\n",
            "Train Set Loss: 69.07\n",
            "Test Set Loss: 0.18\n",
            "Train set accuracy for a single minibatch: 0.00%\n",
            "Test set accuracy for a single minibatch: 100.00%\n",
            "\n",
            "\n",
            "Epoch 0, Iteration 5050\n",
            "Train Set Loss: 18.59\n",
            "Test Set Loss: 1.84\n",
            "Train set accuracy for a single minibatch: 100.00%\n",
            "Test set accuracy for a single minibatch: 100.00%\n",
            "\n",
            "\n",
            "Epoch 0, Iteration 5100\n",
            "Train Set Loss: 1.30\n",
            "Test Set Loss: 1.56\n",
            "Train set accuracy for a single minibatch: 100.00%\n",
            "Test set accuracy for a single minibatch: 100.00%\n",
            "\n",
            "\n",
            "Epoch 0, Iteration 5150\n",
            "Train Set Loss: 25.85\n",
            "Test Set Loss: 1.85\n",
            "Train set accuracy for a single minibatch: 100.00%\n",
            "Test set accuracy for a single minibatch: 100.00%\n",
            "\n",
            "\n",
            "Epoch 0, Iteration 5200\n",
            "Train Set Loss: 1.05\n",
            "Test Set Loss: 0.23\n",
            "Train set accuracy for a single minibatch: 100.00%\n",
            "Test set accuracy for a single minibatch: 100.00%\n",
            "\n",
            "\n",
            "Epoch 0, Iteration 5250\n",
            "Train Set Loss: 1.11\n",
            "Test Set Loss: 0.72\n",
            "Train set accuracy for a single minibatch: 100.00%\n",
            "Test set accuracy for a single minibatch: 100.00%\n",
            "\n",
            "\n",
            "Epoch 0, Iteration 5300\n",
            "Train Set Loss: 0.55\n",
            "Test Set Loss: 18.36\n",
            "Train set accuracy for a single minibatch: 100.00%\n",
            "Test set accuracy for a single minibatch: 100.00%\n",
            "\n",
            "\n",
            "Epoch 0, Iteration 5350\n",
            "Train Set Loss: 1.17\n",
            "Test Set Loss: 1.22\n",
            "Train set accuracy for a single minibatch: 100.00%\n",
            "Test set accuracy for a single minibatch: 100.00%\n",
            "\n",
            "\n",
            "Epoch 0, Iteration 5400\n",
            "Train Set Loss: 1.58\n",
            "Test Set Loss: 5.33\n",
            "Train set accuracy for a single minibatch: 100.00%\n",
            "Test set accuracy for a single minibatch: 100.00%\n",
            "\n",
            "\n",
            "Epoch 0, Iteration 5450\n",
            "Train Set Loss: 21.19\n",
            "Test Set Loss: 1.06\n",
            "Train set accuracy for a single minibatch: 100.00%\n",
            "Test set accuracy for a single minibatch: 100.00%\n",
            "\n",
            "\n",
            "Epoch 0, Iteration 5500\n",
            "Train Set Loss: 1.54\n",
            "Test Set Loss: 1.25\n",
            "Train set accuracy for a single minibatch: 100.00%\n",
            "Test set accuracy for a single minibatch: 100.00%\n",
            "\n",
            "\n",
            "Epoch 0, Iteration 5550\n",
            "Train Set Loss: 6.01\n",
            "Test Set Loss: 1.67\n",
            "Train set accuracy for a single minibatch: 0.00%\n",
            "Test set accuracy for a single minibatch: 100.00%\n",
            "\n",
            "\n",
            "Epoch 0, Iteration 5600\n",
            "Train Set Loss: 2.26\n",
            "Test Set Loss: 0.85\n",
            "Train set accuracy for a single minibatch: 100.00%\n",
            "Test set accuracy for a single minibatch: 100.00%\n",
            "\n",
            "\n",
            "Epoch 0, Iteration 5650\n",
            "Train Set Loss: 0.97\n",
            "Test Set Loss: 1.03\n",
            "Train set accuracy for a single minibatch: 100.00%\n",
            "Test set accuracy for a single minibatch: 100.00%\n",
            "\n",
            "\n",
            "Epoch 0, Iteration 5700\n",
            "Train Set Loss: 2.09\n",
            "Test Set Loss: 1.20\n",
            "Train set accuracy for a single minibatch: 100.00%\n",
            "Test set accuracy for a single minibatch: 100.00%\n",
            "\n",
            "\n",
            "Epoch 0, Iteration 5750\n",
            "Train Set Loss: 10.82\n",
            "Test Set Loss: 1.92\n",
            "Train set accuracy for a single minibatch: 100.00%\n",
            "Test set accuracy for a single minibatch: 100.00%\n",
            "\n",
            "\n"
          ]
        },
        {
          "ename": "KeyboardInterrupt",
          "evalue": "",
          "output_type": "error",
          "traceback": [
            "\u001b[0;31m---------------------------------------------------------------------------\u001b[0m",
            "\u001b[0;31mKeyboardInterrupt\u001b[0m                         Traceback (most recent call last)",
            "\u001b[1;32m/home/james/code/hw-aware-eprop/notebooks/mnist_train.ipynb Cell 28\u001b[0m line \u001b[0;36m2\n\u001b[1;32m     <a href='vscode-notebook-cell:/home/james/code/hw-aware-eprop/notebooks/mnist_train.ipynb#X36sZmlsZQ%3D%3D?line=26'>27</a>\u001b[0m \u001b[39m# Backward pass\u001b[39;00m\n\u001b[1;32m     <a href='vscode-notebook-cell:/home/james/code/hw-aware-eprop/notebooks/mnist_train.ipynb#X36sZmlsZQ%3D%3D?line=27'>28</a>\u001b[0m optimizer\u001b[39m.\u001b[39mzero_grad()\n\u001b[0;32m---> <a href='vscode-notebook-cell:/home/james/code/hw-aware-eprop/notebooks/mnist_train.ipynb#X36sZmlsZQ%3D%3D?line=28'>29</a>\u001b[0m loss_val\u001b[39m.\u001b[39;49mbackward()\n\u001b[1;32m     <a href='vscode-notebook-cell:/home/james/code/hw-aware-eprop/notebooks/mnist_train.ipynb#X36sZmlsZQ%3D%3D?line=29'>30</a>\u001b[0m optimizer\u001b[39m.\u001b[39mstep()\n\u001b[1;32m     <a href='vscode-notebook-cell:/home/james/code/hw-aware-eprop/notebooks/mnist_train.ipynb#X36sZmlsZQ%3D%3D?line=31'>32</a>\u001b[0m \u001b[39m# Store loss\u001b[39;00m\n",
            "File \u001b[0;32m~/anaconda3/envs/ini/lib/python3.11/site-packages/torch/_tensor.py:487\u001b[0m, in \u001b[0;36mTensor.backward\u001b[0;34m(self, gradient, retain_graph, create_graph, inputs)\u001b[0m\n\u001b[1;32m    477\u001b[0m \u001b[39mif\u001b[39;00m has_torch_function_unary(\u001b[39mself\u001b[39m):\n\u001b[1;32m    478\u001b[0m     \u001b[39mreturn\u001b[39;00m handle_torch_function(\n\u001b[1;32m    479\u001b[0m         Tensor\u001b[39m.\u001b[39mbackward,\n\u001b[1;32m    480\u001b[0m         (\u001b[39mself\u001b[39m,),\n\u001b[0;32m   (...)\u001b[0m\n\u001b[1;32m    485\u001b[0m         inputs\u001b[39m=\u001b[39minputs,\n\u001b[1;32m    486\u001b[0m     )\n\u001b[0;32m--> 487\u001b[0m torch\u001b[39m.\u001b[39;49mautograd\u001b[39m.\u001b[39;49mbackward(\n\u001b[1;32m    488\u001b[0m     \u001b[39mself\u001b[39;49m, gradient, retain_graph, create_graph, inputs\u001b[39m=\u001b[39;49minputs\n\u001b[1;32m    489\u001b[0m )\n",
            "File \u001b[0;32m~/anaconda3/envs/ini/lib/python3.11/site-packages/torch/autograd/__init__.py:200\u001b[0m, in \u001b[0;36mbackward\u001b[0;34m(tensors, grad_tensors, retain_graph, create_graph, grad_variables, inputs)\u001b[0m\n\u001b[1;32m    195\u001b[0m     retain_graph \u001b[39m=\u001b[39m create_graph\n\u001b[1;32m    197\u001b[0m \u001b[39m# The reason we repeat same the comment below is that\u001b[39;00m\n\u001b[1;32m    198\u001b[0m \u001b[39m# some Python versions print out the first line of a multi-line function\u001b[39;00m\n\u001b[1;32m    199\u001b[0m \u001b[39m# calls in the traceback and some print out the last line\u001b[39;00m\n\u001b[0;32m--> 200\u001b[0m Variable\u001b[39m.\u001b[39;49m_execution_engine\u001b[39m.\u001b[39;49mrun_backward(  \u001b[39m# Calls into the C++ engine to run the backward pass\u001b[39;49;00m\n\u001b[1;32m    201\u001b[0m     tensors, grad_tensors_, retain_graph, create_graph, inputs,\n\u001b[1;32m    202\u001b[0m     allow_unreachable\u001b[39m=\u001b[39;49m\u001b[39mTrue\u001b[39;49;00m, accumulate_grad\u001b[39m=\u001b[39;49m\u001b[39mTrue\u001b[39;49;00m)\n",
            "File \u001b[0;32m~/anaconda3/envs/ini/lib/python3.11/site-packages/torch/autograd/function.py:264\u001b[0m, in \u001b[0;36mBackwardCFunction.apply\u001b[0;34m(self, *args)\u001b[0m\n\u001b[1;32m    263\u001b[0m \u001b[39mclass\u001b[39;00m \u001b[39mBackwardCFunction\u001b[39;00m(_C\u001b[39m.\u001b[39m_FunctionBase, FunctionCtx, _HookMixin):\n\u001b[0;32m--> 264\u001b[0m     \u001b[39mdef\u001b[39;00m \u001b[39mapply\u001b[39m(\u001b[39mself\u001b[39m, \u001b[39m*\u001b[39margs):\n\u001b[1;32m    265\u001b[0m         \u001b[39m# _forward_cls is defined by derived class\u001b[39;00m\n\u001b[1;32m    266\u001b[0m         \u001b[39m# The user should define either backward or vjp but never both.\u001b[39;00m\n\u001b[1;32m    267\u001b[0m         backward_fn \u001b[39m=\u001b[39m \u001b[39mself\u001b[39m\u001b[39m.\u001b[39m_forward_cls\u001b[39m.\u001b[39mbackward  \u001b[39m# type: ignore[attr-defined]\u001b[39;00m\n\u001b[1;32m    268\u001b[0m         vjp_fn \u001b[39m=\u001b[39m \u001b[39mself\u001b[39m\u001b[39m.\u001b[39m_forward_cls\u001b[39m.\u001b[39mvjp  \u001b[39m# type: ignore[attr-defined]\u001b[39;00m\n",
            "\u001b[0;31mKeyboardInterrupt\u001b[0m: "
          ]
        }
      ],
      "source": [
        "NUM_EPOCHS = 1\n",
        "\n",
        "# Initialise tracking variables\n",
        "counter = 0  # total iteration counter\n",
        "train_loss_hist = []\n",
        "test_loss_hist = []\n",
        "\n",
        "# Outer Training loop\n",
        "for epoch in range(NUM_EPOCHS):\n",
        "    iter_counter = 0  # keep track of iterations within an epoch\n",
        "\n",
        "    # Loop over each minibatch\n",
        "    for data, targets in iter(train_dataloader):\n",
        "\n",
        "        data = data.to(device)\n",
        "        targets = targets.to(device)\n",
        "        net.train()  # Set module to training mode\n",
        "\n",
        "        # Forward pass\n",
        "        spk_rec, mem_rec = net(data.view(BATCH_SIZE, -1))\n",
        "\n",
        "        # Initialise loss and sum over time\n",
        "        loss_val = torch.zeros((1), dtype=dtype, device=device)\n",
        "        for timestep in range(NUM_STEPS):\n",
        "            loss_val += loss(mem_rec[timestep], targets)\n",
        "\n",
        "        # Backward pass\n",
        "        optimizer.zero_grad()\n",
        "        loss_val.backward()\n",
        "        optimizer.step()\n",
        "\n",
        "        # Store loss\n",
        "        train_loss_hist.append(loss_val.item())\n",
        "\n",
        "        # Test set\n",
        "        with torch.no_grad():  # Disable gradient tracking when evaluating\n",
        "            net.eval()  # Set net to eval mode\n",
        "            test_data, test_targets = next(iter(test_dataloader))\n",
        "            output_spikes, output_memb_pots = net(test_data.view(BATCH_SIZE, -1))\n",
        "\n",
        "            test_loss = torch.zeros((1), dtype=dtype, device=device)\n",
        "\n",
        "            for timestep in range(NUM_STEPS):\n",
        "                test_loss += loss(output_memb_pots[timestep], test_targets)  # Note that loss values are summed/averaged over minibatch\n",
        "            test_loss_hist.append(test_loss.item())\n",
        "\n",
        "            # Print train/test loss and accuracy\n",
        "            if counter % 50 == 0:\n",
        "                train_printer(data, targets, net, epoch, counter,\n",
        "                              iter_counter, train_loss_hist, test_loss_hist,\n",
        "                              test_data, test_targets)\n",
        "            counter += 1\n",
        "            iter_counter += 1\n",
        "\n"
      ]
    },
    {
      "cell_type": "markdown",
      "metadata": {
        "id": "zOXMgTDccaQ6"
      },
      "source": [
        "## Plot Learning Curves"
      ]
    },
    {
      "cell_type": "code",
      "execution_count": null,
      "metadata": {
        "id": "qQLQe3E2caQ6",
        "outputId": "a97e9047-9932-4cd3-9952-1d465244053b"
      },
      "outputs": [
        {
          "data": {
            "image/png": "[encoded data removed]",
            "text/plain": [
              "<Figure size 1000x500 with 1 Axes>"
            ]
          },
          "metadata": {},
          "output_type": "display_data"
        }
      ],
      "source": [
        "# Plot Loss\n",
        "fig = plt.figure(facecolor=\"w\", figsize=(10, 5))\n",
        "plt.plot(train_loss_hist)\n",
        "plt.plot(test_loss_hist)\n",
        "plt.title(\"Loss Curves\")\n",
        "plt.legend([\"Train Loss\", \"Test Loss\"])\n",
        "plt.xlabel(\"Iteration\")\n",
        "plt.ylabel(\"Loss\")\n",
        "plt.show()"
      ]
    },
    {
      "cell_type": "markdown",
      "metadata": {
        "id": "lkTtUvo9caQ6"
      },
      "source": [
        "### Test set accuracy"
      ]
    },
    {
      "cell_type": "markdown",
      "metadata": {
        "id": "nC-Ft9uPcaQ7"
      },
      "source": [
        "Instead of computing loss, with is calculated based on membrane potential, use max firing rate to classify:"
      ]
    },
    {
      "cell_type": "code",
      "execution_count": null,
      "metadata": {
        "id": "gD-n76tscaQ7",
        "outputId": "7fa7afd6-9848-4f57-b0cd-2d06c5b0334e"
      },
      "outputs": [
        {
          "name": "stdout",
          "output_type": "stream",
          "text": [
            "Total correctly classified test set images: 9616/10000\n",
            "Test Set Accuracy: 96.16%\n"
          ]
        }
      ],
      "source": [
        "total = 0\n",
        "correct = 0\n",
        "\n",
        "# drop_last switched to False to keep all samples\n",
        "test_loader = DataLoader(test_dataset, batch_size=BATCH_SIZE, shuffle=True, drop_last=False)\n",
        "\n",
        "with torch.no_grad():\n",
        "  net.eval()\n",
        "  for data, targets in test_loader:\n",
        "    data = data.to(device)\n",
        "    targets = targets.to(device)\n",
        "\n",
        "    # forward pass\n",
        "    test_spk, _ = net(data.view(data.size(0), -1))\n",
        "\n",
        "    # calculate total accuracy\n",
        "    _, predicted = test_spk.sum(dim=0).max(1)\n",
        "    total += targets.size(0)\n",
        "    correct += (predicted == targets).sum().item()\n",
        "\n",
        "print(f\"Total correctly classified test set images: {correct}/{total}\")\n",
        "print(f\"Test Set Accuracy: {100 * correct / total:.2f}%\")"
      ]
    }
  ],
  "metadata": {
    "kernelspec": {
      "display_name": "ini",
      "language": "python",
      "name": "python3"
    },
    "language_info": {
      "codemirror_mode": {
        "name": "ipython",
        "version": 3
      },
      "file_extension": ".py",
      "mimetype": "text/x-python",
      "name": "python",
      "nbconvert_exporter": "python",
      "pygments_lexer": "ipython3",
      "version": "3.11.5"
    },
    "colab": {
      "provenance": [],
      "include_colab_link": true
    }
  },
  "nbformat": 4,
  "nbformat_minor": 0
}